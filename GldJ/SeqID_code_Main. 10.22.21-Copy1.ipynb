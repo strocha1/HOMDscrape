{
 "cells": [
  {
   "cell_type": "markdown",
   "id": "50cdfb9e",
   "metadata": {},
   "source": [
    "# This code is specific to homd.org\n",
    "## requires homd.org to be version 192.168.0.52\n",
    "## requires chromedriver to be 94.0.4606.61\n",
    "## requires a list of sequence IDs that you wish to extract from eHOMD"
   ]
  },
  {
   "cell_type": "code",
   "execution_count": 1,
   "id": "083be59c",
   "metadata": {},
   "outputs": [],
   "source": [
    "import requests #list of every library used in the code\n",
    "import urllib.request\n",
    "import time\n",
    "import selenium\n",
    "from selenium import webdriver\n",
    "from selenium.webdriver.chrome.webdriver import WebDriver\n",
    "from selenium.webdriver.common.keys import Keys\n",
    "from selenium.webdriver.common.by import By\n",
    "from selenium.webdriver.support.ui import WebDriverWait\n",
    "from selenium.webdriver.support import expected_conditions as EC\n",
    "from selenium.webdriver.support.ui import Select\n",
    "import time\n",
    "import pandas as pd\n",
    "from pandas import DataFrame\n",
    "import numpy as np"
   ]
  },
  {
   "cell_type": "code",
   "execution_count": 2,
   "id": "09aa8536",
   "metadata": {},
   "outputs": [],
   "source": [
    "file=open('GldJ_seqid_3.txt').read() #Text file taken for HOMD gene blast search. Includes the sequence IDs that are exrtacted from HOMD.  "
   ]
  },
  {
   "cell_type": "code",
   "execution_count": 3,
   "id": "421edfff",
   "metadata": {},
   "outputs": [
    {
     "data": {
      "text/plain": [
       "['BLASTP',\n",
       " '2.2.25',\n",
       " '[Feb-01-2011]',\n",
       " 'Reference:',\n",
       " 'Altschul,',\n",
       " 'Stephen',\n",
       " 'F.,',\n",
       " 'Thomas',\n",
       " 'L.',\n",
       " 'Madden,',\n",
       " 'Alejandro',\n",
       " 'A.',\n",
       " 'Schäffer,',\n",
       " 'Jinghui',\n",
       " 'Zhang,',\n",
       " 'Zheng',\n",
       " 'Zhang,',\n",
       " 'Webb',\n",
       " 'Miller,',\n",
       " 'and',\n",
       " 'David',\n",
       " 'J.',\n",
       " 'Lipman',\n",
       " '(1997),',\n",
       " '\"Gapped',\n",
       " 'BLAST',\n",
       " 'and',\n",
       " 'PSI-BLAST:',\n",
       " 'a',\n",
       " 'new',\n",
       " 'generation',\n",
       " 'of',\n",
       " 'protein',\n",
       " 'database',\n",
       " 'search',\n",
       " 'programs\",',\n",
       " 'Nucleic',\n",
       " 'Acids',\n",
       " 'Res.',\n",
       " '25:3389-3402.',\n",
       " 'Database:',\n",
       " 'ftp/faa/ALL_genomes.faa',\n",
       " '5,041,813',\n",
       " 'sequences;',\n",
       " '1,561,442,254',\n",
       " 'total',\n",
       " 'letters',\n",
       " 'Query=',\n",
       " '(554',\n",
       " 'letters)',\n",
       " 'Top',\n",
       " 'of',\n",
       " 'Form',\n",
       " 'Bottom',\n",
       " 'of',\n",
       " 'Form',\n",
       " 'Distribution',\n",
       " 'of',\n",
       " '23',\n",
       " 'Blast',\n",
       " 'Hits',\n",
       " 'on',\n",
       " 'the',\n",
       " 'Query',\n",
       " 'Sequence',\n",
       " 'Score',\n",
       " 'E',\n",
       " 'Sequences',\n",
       " 'producing',\n",
       " 'significant',\n",
       " 'alignments:',\n",
       " '(bits)',\n",
       " 'Value',\n",
       " 'SEQF1602_02359',\n",
       " 'Hercynine',\n",
       " 'oxygenase',\n",
       " '[HMT-337',\n",
       " 'Capnocytophaga',\n",
       " 'gingi...',\n",
       " '1140',\n",
       " '0.0',\n",
       " 'SEQF1653_01022',\n",
       " 'Hercynine',\n",
       " 'oxygenase',\n",
       " '[HMT-325',\n",
       " 'Capnocytophaga',\n",
       " 'granu...',\n",
       " '1050',\n",
       " '0.0',\n",
       " 'SEQF1687_00140',\n",
       " 'Hercynine',\n",
       " 'oxygenase',\n",
       " '[HMT-338',\n",
       " 'Capnocytophaga',\n",
       " 'sp.',\n",
       " 'H...',\n",
       " '1050',\n",
       " '0.0',\n",
       " 'SEQF2319_01166',\n",
       " 'Hercynine',\n",
       " 'oxygenase',\n",
       " '[HMT-863',\n",
       " 'Capnocytophaga',\n",
       " 'sp.',\n",
       " 'H...',\n",
       " '1047',\n",
       " '0.0',\n",
       " 'SEQF3174_01002',\n",
       " 'hypothetical',\n",
       " 'protein',\n",
       " '[HMT-902',\n",
       " 'Capnocytophaga',\n",
       " 'sp.',\n",
       " '...',\n",
       " '823',\n",
       " '0.0',\n",
       " 'SEQF2747_01438',\n",
       " 'Hercynine',\n",
       " 'oxygenase',\n",
       " '[HMT-323',\n",
       " 'Capnocytophaga',\n",
       " 'sp.',\n",
       " 'H...',\n",
       " '823',\n",
       " '0.0',\n",
       " 'SEQF1909_00120',\n",
       " 'Hercynine',\n",
       " 'oxygenase',\n",
       " '[HMT-412',\n",
       " 'Capnocytophaga',\n",
       " 'sp.',\n",
       " 'H...',\n",
       " '823',\n",
       " '0.0',\n",
       " 'SEQF2387_00459',\n",
       " 'Hercynine',\n",
       " 'oxygenase',\n",
       " '[HMT-700',\n",
       " 'Capnocytophaga',\n",
       " 'ochra...',\n",
       " '823',\n",
       " '0.0',\n",
       " 'SEQF1006_01598',\n",
       " 'Hercynine',\n",
       " 'oxygenase',\n",
       " '[HMT-700',\n",
       " 'Capnocytophaga',\n",
       " 'ochra...',\n",
       " '823',\n",
       " '0.0',\n",
       " 'SEQF3058_01690',\n",
       " 'Hercynine',\n",
       " 'oxygenase',\n",
       " '[HMT-864',\n",
       " 'Capnocytophaga',\n",
       " 'sp.',\n",
       " 'H...',\n",
       " '822',\n",
       " '0.0',\n",
       " 'SEQF1970_00205',\n",
       " 'Hercynine',\n",
       " 'oxygenase',\n",
       " '[HMT-336',\n",
       " 'Capnocytophaga',\n",
       " 'sp.',\n",
       " 'H...',\n",
       " '822',\n",
       " '0.0',\n",
       " 'SEQF1950_01418',\n",
       " 'Hercynine',\n",
       " 'oxygenase',\n",
       " '[HMT-380',\n",
       " 'Capnocytophaga',\n",
       " 'sp.',\n",
       " 'H...',\n",
       " '822',\n",
       " '0.0',\n",
       " 'SEQF1906_00134',\n",
       " 'Hercynine',\n",
       " 'oxygenase',\n",
       " '[HMT-335',\n",
       " 'Capnocytophaga',\n",
       " 'sp.',\n",
       " 'H...',\n",
       " '822',\n",
       " '0.0',\n",
       " 'SEQF1008_00773',\n",
       " 'Hercynine',\n",
       " 'oxygenase',\n",
       " '[HMT-700',\n",
       " 'Capnocytophaga',\n",
       " 'ochra...',\n",
       " '822',\n",
       " '0.0',\n",
       " 'SEQF3176_00690',\n",
       " 'hypothetical',\n",
       " 'protein',\n",
       " '[HMT-903',\n",
       " 'Capnocytophaga',\n",
       " 'sp.',\n",
       " '...',\n",
       " '821',\n",
       " '0.0',\n",
       " 'SEQF1938_00945',\n",
       " 'Hercynine',\n",
       " 'oxygenase',\n",
       " '[HMT-324',\n",
       " 'Capnocytophaga',\n",
       " 'sp.',\n",
       " 'H...',\n",
       " '820',\n",
       " '0.0',\n",
       " 'SEQF2788_00504',\n",
       " 'Hercynine',\n",
       " 'oxygenase',\n",
       " '[HMT-627',\n",
       " 'Capnocytophaga',\n",
       " 'haemo...',\n",
       " '814',\n",
       " '0.0',\n",
       " 'SEQF1900_02665',\n",
       " 'Hercynine',\n",
       " 'oxygenase',\n",
       " '[HMT-326',\n",
       " 'Capnocytophaga',\n",
       " 'sp.',\n",
       " 'H...',\n",
       " '813',\n",
       " '0.0',\n",
       " 'SEQF1576_00329',\n",
       " 'Hercynine',\n",
       " 'oxygenase',\n",
       " '[HMT-775',\n",
       " 'Capnocytophaga',\n",
       " 'sputi...',\n",
       " '810',\n",
       " '0.0',\n",
       " 'SEQF1937_02399',\n",
       " 'Hercynine',\n",
       " 'oxygenase',\n",
       " '[HMT-332',\n",
       " 'Capnocytophaga',\n",
       " 'sp.',\n",
       " 'H...',\n",
       " '797',\n",
       " '0.0',\n",
       " 'SEQF3059_02109',\n",
       " 'Hercynine',\n",
       " 'oxygenase',\n",
       " '[HMT-878',\n",
       " 'Capnocytophaga',\n",
       " 'sp.',\n",
       " 'H...',\n",
       " '786',\n",
       " '0.0',\n",
       " 'SEQF3157_01861',\n",
       " 'Hercynine',\n",
       " 'oxygenase',\n",
       " '[HMT-261',\n",
       " 'Segetibacter',\n",
       " 'aerophi...',\n",
       " '345',\n",
       " '4e-93',\n",
       " 'SEQF1451_01601',\n",
       " 'hypothetical',\n",
       " 'protein',\n",
       " '[HMT-274',\n",
       " 'Bacteroidales',\n",
       " 'G-2',\n",
       " 'b...',\n",
       " '265',\n",
       " '4e-69']"
      ]
     },
     "execution_count": 3,
     "metadata": {},
     "output_type": "execute_result"
    }
   ],
   "source": [
    "file1=file.split() #splitting each element in the document at each space\n",
    "file1"
   ]
  },
  {
   "cell_type": "code",
   "execution_count": 4,
   "id": "7a219c40",
   "metadata": {},
   "outputs": [
    {
     "data": {
      "text/plain": [
       "['SEQF1602_02359',\n",
       " 'SEQF1653_01022',\n",
       " 'SEQF1687_00140',\n",
       " 'SEQF2319_01166',\n",
       " 'SEQF3174_01002',\n",
       " 'SEQF2747_01438',\n",
       " 'SEQF1909_00120',\n",
       " 'SEQF2387_00459',\n",
       " 'SEQF1006_01598',\n",
       " 'SEQF3058_01690',\n",
       " 'SEQF1970_00205',\n",
       " 'SEQF1950_01418',\n",
       " 'SEQF1906_00134',\n",
       " 'SEQF1008_00773',\n",
       " 'SEQF3176_00690',\n",
       " 'SEQF1938_00945',\n",
       " 'SEQF2788_00504',\n",
       " 'SEQF1900_02665',\n",
       " 'SEQF1576_00329',\n",
       " 'SEQF1937_02399',\n",
       " 'SEQF3059_02109',\n",
       " 'SEQF3157_01861',\n",
       " 'SEQF1451_01601']"
      ]
     },
     "execution_count": 4,
     "metadata": {},
     "output_type": "execute_result"
    }
   ],
   "source": [
    "Final_file= [i for i in file1 if \"SEQF\" in i] #Searching for elements that begin with 'SEQF' to isolate Sequence IDs.\n",
    "Final_file"
   ]
  },
  {
   "cell_type": "code",
   "execution_count": 5,
   "id": "f108f2f6",
   "metadata": {},
   "outputs": [
    {
     "data": {
      "text/plain": [
       "'SEQF1602'"
      ]
     },
     "execution_count": 5,
     "metadata": {},
     "output_type": "execute_result"
    }
   ],
   "source": [
    "a=Final_file[0] # getting the genus number by selecting the first 8 characters \n",
    "a[0:8]"
   ]
  },
  {
   "cell_type": "code",
   "execution_count": 6,
   "id": "b0f625dc",
   "metadata": {},
   "outputs": [
    {
     "data": {
      "text/plain": [
       "['SEQF1602',\n",
       " 'SEQF1653',\n",
       " 'SEQF1687',\n",
       " 'SEQF2319',\n",
       " 'SEQF3174',\n",
       " 'SEQF2747',\n",
       " 'SEQF1909',\n",
       " 'SEQF2387',\n",
       " 'SEQF1006',\n",
       " 'SEQF3058',\n",
       " 'SEQF1970',\n",
       " 'SEQF1950',\n",
       " 'SEQF1906',\n",
       " 'SEQF1008',\n",
       " 'SEQF3176',\n",
       " 'SEQF1938',\n",
       " 'SEQF2788',\n",
       " 'SEQF1900',\n",
       " 'SEQF1576',\n",
       " 'SEQF1937',\n",
       " 'SEQF3059',\n",
       " 'SEQF3157',\n",
       " 'SEQF1451']"
      ]
     },
     "execution_count": 6,
     "metadata": {},
     "output_type": "execute_result"
    }
   ],
   "source": [
    "genus=[] # Creating a list for the genus numbers \n",
    "for genus1 in range(len(Final_file)): \n",
    "    \n",
    "    b=Final_file[genus1]\n",
    "    genus.append(b[0:8])\n",
    "genus"
   ]
  },
  {
   "cell_type": "code",
   "execution_count": 7,
   "id": "e529137a",
   "metadata": {},
   "outputs": [],
   "source": [
    "options = webdriver.ChromeOptions()\n",
    "options.headless = True\n",
    "driver = webdriver.Chrome(r\"C:\\Users\\sofia\\.wdm\\drivers\\chromedriver\\win32\\96.0.4664.45.exe\", options=options)#locating chromedriver on local computer location may change based on computer. \n",
    "#This uses chromedriver's 94.0.4606.61 version. Update version to newest if needed. \n",
    "#options=options allows chromedriver to work in headless mode"
   ]
  },
  {
   "cell_type": "code",
   "execution_count": 8,
   "id": "40d2d61c",
   "metadata": {},
   "outputs": [
    {
     "name": "stdout",
     "output_type": "stream",
     "text": [
      "http://www.homd.org/modules.php?op=modload&name=GenomeExpGM&file=index&gprog=danno&org=PROKKA_SEQF1602\n",
      "http://www.homd.org/modules.php?op=modload&name=GenomeExpGM&file=index&gprog=danno&org=PROKKA_SEQF1653\n",
      "http://www.homd.org/modules.php?op=modload&name=GenomeExpGM&file=index&gprog=danno&org=PROKKA_SEQF1687\n",
      "http://www.homd.org/modules.php?op=modload&name=GenomeExpGM&file=index&gprog=danno&org=PROKKA_SEQF2319\n",
      "http://www.homd.org/modules.php?op=modload&name=GenomeExpGM&file=index&gprog=danno&org=PROKKA_SEQF3174\n",
      "http://www.homd.org/modules.php?op=modload&name=GenomeExpGM&file=index&gprog=danno&org=PROKKA_SEQF2747\n",
      "http://www.homd.org/modules.php?op=modload&name=GenomeExpGM&file=index&gprog=danno&org=PROKKA_SEQF1909\n",
      "http://www.homd.org/modules.php?op=modload&name=GenomeExpGM&file=index&gprog=danno&org=PROKKA_SEQF2387\n",
      "http://www.homd.org/modules.php?op=modload&name=GenomeExpGM&file=index&gprog=danno&org=PROKKA_SEQF1006\n",
      "http://www.homd.org/modules.php?op=modload&name=GenomeExpGM&file=index&gprog=danno&org=PROKKA_SEQF3058\n",
      "http://www.homd.org/modules.php?op=modload&name=GenomeExpGM&file=index&gprog=danno&org=PROKKA_SEQF1970\n",
      "http://www.homd.org/modules.php?op=modload&name=GenomeExpGM&file=index&gprog=danno&org=PROKKA_SEQF1950\n",
      "http://www.homd.org/modules.php?op=modload&name=GenomeExpGM&file=index&gprog=danno&org=PROKKA_SEQF1906\n",
      "http://www.homd.org/modules.php?op=modload&name=GenomeExpGM&file=index&gprog=danno&org=PROKKA_SEQF1008\n",
      "http://www.homd.org/modules.php?op=modload&name=GenomeExpGM&file=index&gprog=danno&org=PROKKA_SEQF3176\n",
      "http://www.homd.org/modules.php?op=modload&name=GenomeExpGM&file=index&gprog=danno&org=PROKKA_SEQF1938\n",
      "http://www.homd.org/modules.php?op=modload&name=GenomeExpGM&file=index&gprog=danno&org=PROKKA_SEQF2788\n",
      "http://www.homd.org/modules.php?op=modload&name=GenomeExpGM&file=index&gprog=danno&org=PROKKA_SEQF1900\n",
      "http://www.homd.org/modules.php?op=modload&name=GenomeExpGM&file=index&gprog=danno&org=PROKKA_SEQF1576\n",
      "http://www.homd.org/modules.php?op=modload&name=GenomeExpGM&file=index&gprog=danno&org=PROKKA_SEQF1937\n",
      "http://www.homd.org/modules.php?op=modload&name=GenomeExpGM&file=index&gprog=danno&org=PROKKA_SEQF3059\n",
      "http://www.homd.org/modules.php?op=modload&name=GenomeExpGM&file=index&gprog=danno&org=PROKKA_SEQF3157\n",
      "http://www.homd.org/modules.php?op=modload&name=GenomeExpGM&file=index&gprog=danno&org=PROKKA_SEQF1451\n"
     ]
    }
   ],
   "source": [
    "Link2 = np.array([\"http://www.homd.org/modules.php?op=modload&name=GenomeExpGM&file=index&gprog=danno&org=PROKKA_\"]) #Main website that requires a genus number \n",
    "Websites1 = [] #empty list for each custom website\n",
    "for a in Link2: #adding the website to each genus name to create custom websites. \n",
    "    for b in genus:\n",
    "        print (a+b)\n",
    "        Websites1.append((a+b))"
   ]
  },
  {
   "cell_type": "code",
   "execution_count": 9,
   "id": "f6f5136c",
   "metadata": {},
   "outputs": [
    {
     "data": {
      "text/plain": [
       "['>Capnocytophaga gingivalis ATCC 33624',\n",
       " '>Capnocytophaga granulosa ATCC 51502',\n",
       " '>Capnocytophaga sp. HMT 338 F0234',\n",
       " '>Capnocytophaga sp. HMT 863 F0517',\n",
       " '>Capnocytophaga sp. HMT 902 W10638',\n",
       " '>Capnocytophaga sp. HMT 323 F0383',\n",
       " '>Capnocytophaga sp. HMT 412 F0487',\n",
       " '>Capnocytophaga ochracea str. Holt 25',\n",
       " '>Capnocytophaga ochracea F0287',\n",
       " '>Capnocytophaga sp. HMT 864 F0512',\n",
       " '>Capnocytophaga sp. HMT 336 F0502',\n",
       " '>Capnocytophaga sp. HMT 380 F0488',\n",
       " '>Capnocytophaga sp. HMT 335 F0486',\n",
       " '>Capnocytophaga ochracea DSM 7271, ATCC 27872, JCM 12966',\n",
       " '>Capnocytophaga sp. HMT 903 W10654',\n",
       " '>Capnocytophaga sp. HMT 324 F0483',\n",
       " '>Capnocytophaga haemolytica CCUG 32990',\n",
       " '>Capnocytophaga sp. HMT 326 F0382',\n",
       " '>Capnocytophaga sputigena ATCC 33612',\n",
       " '>Capnocytophaga sp. HMT 332 F0381',\n",
       " '>Capnocytophaga sp. HMT 878 F0545',\n",
       " '>Segetibacter aerophilus NBRC 106135',\n",
       " '>Bacteroidales [G-2] bacterium HMT 274 F0058']"
      ]
     },
     "execution_count": 9,
     "metadata": {},
     "output_type": "execute_result"
    }
   ],
   "source": [
    "name = []\n",
    "for a in range(len(Websites1)):  # Using Chrome to access web\n",
    "    driver = webdriver.Chrome(r\"C:\\Users\\sofia\\.wdm\\drivers\\chromedriver\\win32\\96.0.4664.45.exe\", options=options) #operating webpages in headless mode\n",
    "    driver.get(Websites1[a]) # Open the website\n",
    "    time.sleep(2)\n",
    "    genome = driver.find_element_by_xpath(\"//html/body/div[2]/table[1]/tbody/tr[4]/td/table/tbody/tr/td/table/tbody/tr[1]/td/table/tbody/tr[2]/td/table/tbody/tr[1]/td[2]/font/b\").text #finding the genome selected name\n",
    "    name.append(\">\"+genome)\n",
    "    driver.close()\n",
    "name"
   ]
  },
  {
   "cell_type": "code",
   "execution_count": 10,
   "id": "addf70c6",
   "metadata": {},
   "outputs": [
    {
     "data": {
      "text/plain": [
       "['>Capnocytophaga gingivalis ATCC 33624',\n",
       " '>Capnocytophaga granulosa ATCC 51502',\n",
       " '>Capnocytophaga sp HMT 338 F0234',\n",
       " '>Capnocytophaga sp HMT 863 F0517',\n",
       " '>Capnocytophaga sp HMT 902 W10638',\n",
       " '>Capnocytophaga sp HMT 323 F0383',\n",
       " '>Capnocytophaga sp HMT 412 F0487',\n",
       " '>Capnocytophaga ochracea str Holt 25',\n",
       " '>Capnocytophaga ochracea F0287',\n",
       " '>Capnocytophaga sp HMT 864 F0512',\n",
       " '>Capnocytophaga sp HMT 336 F0502',\n",
       " '>Capnocytophaga sp HMT 380 F0488',\n",
       " '>Capnocytophaga sp HMT 335 F0486',\n",
       " '>Capnocytophaga ochracea DSM 7271 ATCC 27872 JCM 12966',\n",
       " '>Capnocytophaga sp HMT 903 W10654',\n",
       " '>Capnocytophaga sp HMT 324 F0483',\n",
       " '>Capnocytophaga haemolytica CCUG 32990',\n",
       " '>Capnocytophaga sp HMT 326 F0382',\n",
       " '>Capnocytophaga sputigena ATCC 33612',\n",
       " '>Capnocytophaga sp HMT 332 F0381',\n",
       " '>Capnocytophaga sp HMT 878 F0545',\n",
       " '>Segetibacter aerophilus NBRC 106135',\n",
       " '>Bacteroidales G2 bacterium HMT 274 F0058']"
      ]
     },
     "execution_count": 10,
     "metadata": {},
     "output_type": "execute_result"
    }
   ],
   "source": [
    "# initializing special characters\n",
    "special_char = '@_!#$%^&*()<?/\\|}{~:;.[]-,='\n",
    " \n",
    "# using join() + generator to remove special characters\n",
    "name1 = [''.join(x for x in string if not x in special_char) for string in name]\n",
    " \n",
    "# print list without special characters to ease FAFSTA format conversion. \n",
    "name1"
   ]
  },
  {
   "cell_type": "code",
   "execution_count": 11,
   "id": "2673aea7",
   "metadata": {},
   "outputs": [
    {
     "data": {
      "text/plain": [
       "['>Capnocytophaga_gingivalis_ATCC_33624',\n",
       " '>Capnocytophaga_granulosa_ATCC_51502',\n",
       " '>Capnocytophaga_sp_HMT_338_F0234',\n",
       " '>Capnocytophaga_sp_HMT_863_F0517',\n",
       " '>Capnocytophaga_sp_HMT_902_W10638',\n",
       " '>Capnocytophaga_sp_HMT_323_F0383',\n",
       " '>Capnocytophaga_sp_HMT_412_F0487',\n",
       " '>Capnocytophaga_ochracea_str_Holt_25',\n",
       " '>Capnocytophaga_ochracea_F0287',\n",
       " '>Capnocytophaga_sp_HMT_864_F0512',\n",
       " '>Capnocytophaga_sp_HMT_336_F0502',\n",
       " '>Capnocytophaga_sp_HMT_380_F0488',\n",
       " '>Capnocytophaga_sp_HMT_335_F0486',\n",
       " '>Capnocytophaga_ochracea_DSM_7271_ATCC_27872_JCM_12966',\n",
       " '>Capnocytophaga_sp_HMT_903_W10654',\n",
       " '>Capnocytophaga_sp_HMT_324_F0483',\n",
       " '>Capnocytophaga_haemolytica_CCUG_32990',\n",
       " '>Capnocytophaga_sp_HMT_326_F0382',\n",
       " '>Capnocytophaga_sputigena_ATCC_33612',\n",
       " '>Capnocytophaga_sp_HMT_332_F0381',\n",
       " '>Capnocytophaga_sp_HMT_878_F0545',\n",
       " '>Segetibacter_aerophilus_NBRC_106135',\n",
       " '>Bacteroidales_G2_bacterium_HMT_274_F0058']"
      ]
     },
     "execution_count": 11,
     "metadata": {},
     "output_type": "execute_result"
    }
   ],
   "source": [
    "name2=[n.replace(\" \",\"_\")for n in name1]\n",
    "name2 #done to create FAFSTA format"
   ]
  },
  {
   "cell_type": "code",
   "execution_count": 12,
   "id": "63d3da0e",
   "metadata": {},
   "outputs": [],
   "source": [
    "textfile = open(\"name.txt\", \"w\")\n",
    "for element in name1:\n",
    "    textfile.write(element + \"\\n\")\n",
    "textfile.close() #saving names as a textfile"
   ]
  },
  {
   "cell_type": "code",
   "execution_count": 13,
   "id": "91e93eaf",
   "metadata": {},
   "outputs": [
    {
     "name": "stderr",
     "output_type": "stream",
     "text": [
      "<ipython-input-13-85c995083d94>:16: DeprecationWarning: use driver.switch_to.window instead\n",
      "  driver.switch_to_window(allGUID[1]) #switching to window 2\n"
     ]
    },
    {
     "data": {
      "text/plain": [
       "['>SEQF1602|SEQF1602_02359 Hercynine oxygenase\\nMDMQSLKKPMLASLLVAAFLVGCGKKGSDKNTSSATGWKINAKEGGFQYN\\nTNFKEQVTGPGLVFVEGGTFTMGKVQDDVMHDWNNTPSQQHVQSFYMDET\\nEVTNKMYMEYLDWLKQVFPPEDKDGHYKNIYLGALPDTLVWRSPLSANET\\nMVSEYLRHPAYAEYPVVGVNWVQATQFSSWRTNRVNESILEKDGYIQQGS\\nRYQVDAESTFSTDTYLNTPENSYGRKVSEFAGKKATNKDGNVTYAKQTEG\\nILLPEYRLPTEVEWEYAAKSLNGIREYNSIRGRKKYPWAGRYTRNGKRAE\\nMGNQMANFKQGQGDYGGLAGWSEDKGDITTKVKTFAPNDFGLYDMAGNVA\\nEWVADVYRPRVDDELSDFNYYRGNVYTKNKIGEDGKLVVVDAQSITYDTL\\nSNGRIIARNLPGQLAKVAVDDNETYLRYNFTTADNRNYRDGDRVSSKEYA\\nKLTMDRHSENIDSLTASQRANVSRTMYNSPNQKILSDGQGGIIKVYDRSN\\nDRTTLIDDEARVIKGGSWRDRAYWIDPAQRRYLPQYSATDYIGFRCAMSR\\nVGSKAKKGKSSRG',\n",
       " '>SEQF1653|SEQF1653_01022 Hercynine oxygenase\\nMLASLLAATFLVSCGSKNGGDKNTSSATGWKINAKEGGFQYNTNFKEQVT\\nGPGLVFIEGGTFTMGKVQDDVMHDWNNTPSQQHVQSFYMDETEVTNKMYM\\nEYLDWLKQVFPPEDKDGHYKNIYLGALPDTLVWRSPLSANETMVTDYLRH\\nPAFANYPVVGVSWVQAVQFSSWRTNRVNEAILEQDGYIQKGSRYQVDAES\\nTFSTDTYLNTPENSYGRKVTEFAGKKATNKDGNTTYAKQTEGILLPEYRL\\nPTEAEWEYAAKSLNGIREYNSIRGRKKYPWAGRYTRNGRRSVMGNQMANF\\nKQGQGDYGGLAGWSEDSGDITSAVKTFEPNDFGLYDMAGNVAEWVADIYR\\nPRVDDELSDFNYFRGNVYTKNKIGEDGKFVVIDAQTITYDTLSNGRIYAK\\nNLPGQLAKVAVDENETYLRYNFNTADNRNFRDGDRVSSKEYAKLTRERTE\\nVSFDSLNASQRANVSRTMYNSPNQKVIPDGQGGIVKVYDRSNDRTTLVDD\\nESRVFKGGSWKDRAYYIDPAQRRFLPQYSATDYIGFRCAMSRVGSKSKKG\\nKTSRG',\n",
       " '>SEQF1687|SEQF1687_00140 Hercynine oxygenase\\nMDIRSFKKPMLATLLVATFLVGCGKKGTDKNTSSATGWKINSKEGGFQYN\\nTDFKEQVTGPGLVFIEGGTFTMGKVQDDVMHDWNNTPSQQHIQSFYMDET\\nEVTNKMYMEYLDWLKRVFPPEDKEGHYKNIYLGALPDTLVWRSPLSANET\\nMVSEYLRHPAYADYPVVGVNWVQATQFSSWRTNRVNEAILEKDGFIQQGS\\nRYQVDAESTFSTDTYLNTPENSYGRKVTEFAGKKATDKEGNTTYAKQTSG\\nILLPEYRLPTEAEWEYAAKSLSGIREYNSIRGRKKYPWAGRYTRTGKRAV\\nMGDQLANFKQGQGDYGGLAGWSDDKGDITTAVKTFPANDFGLYDMAGNVA\\nEWVADVYRPRVDDEMSDFNYYRGNVYMKNKIGEDGKLVVVDAQTITYDTL\\nSNGRIVARNLPGQLAKVPVDGNETYLRYNFQNADNRNYRDGDRASSKDYV\\nKLTLEKGERSLDSLNASQRANVSRTMYNSPDQKILSDGHGGIIKRYDPSN\\nDRTTLIDDEARVIKGGSWRDRAYWIDPAQRRFLPQYSATDYIGFRCAMSR\\nVGSKAKKNKTSRG',\n",
       " '>SEQF2319|SEQF2319_01166 Hercynine oxygenase\\nMLASLLAATFLVGCGGKSGGSSGDKNTSGATGWKINAKEGGFQYNTNFKE\\nQITAPGLVFVEGGTFTMGKVQDDVMHDWNNTPSQQHVQSFYMDETEVTNK\\nMYMEYLDWLKQVFPPEDKDGHYKNIYLGALPDTLVWRSPLSANETMVNEY\\nLRHPAYASYPVVGVNWVQAVQFSSWRTNRVNESLLEKDGFIQQGSRYQVD\\nAESTFSTDTYLNTPENSYGRKVTEFAGKKATNKEGNPTYAKHTDGILLPE\\nYRLPTEVEWEYAAKSLSGIREYNSVRGRKKYPWAGRYTRNGRRAIMGNQM\\nANFKQGQGDYGGLAGWSEDSGDITTAVKTFEPNDFGLYDMAGNVAEWVAD\\nVYRPIVDDELSDFNYYRGNVYTKNKIGEDGKFVIVDAQSITYDTLSNGRI\\nIARNLPGQLAKIAVDENETYLRYNFTTADNRNFRDGDRVSSKEYVKLTRE\\nKTEVSLDSLNASQRANVSRSMYNSPNQKIIADGQGGIVKVYDRSNDRTTL\\nVDDESRVFKGGSWRDRAYYIDPAQRRFLPQYSATDYIGFRCAMSRVGAKS\\nKTGKTSRG',\n",
       " '>SEQF3174|SEQF3174_01002 hypothetical protein\\nMALAGLLLAGCGKKTDKNTSSATGWKINAKEGGFQYNTDFKDQETGPGLV\\nLIEGGTFTMGQVEDDIMHDWNNTPTQQHVQSFYMDETEVTNKMYMEYLDW\\nLKRVFPPDEEQYRNIYIGALPDTLVWRSPLSANEAMVSNYLRHPAYAEYP\\nVVGVNWVQAVQFSSWRTDRVNEAILERDGYLAKDARYQVDATSTFSTDTY\\nLNAPSQTYGGKIAGEMGGKKTNKEGEATYAKQTSGILLPEYRLPTEVEWE\\nYAAKSLGGIREYNSLQGRKKYPWDSQYTRSTKRRTRGDLLANFKQGKGDY\\nGGLAGWSDDKGDITVAVKTYPPNDFGLYDMAGNVAEWVADVYRPIVDDEI\\nTDFNYYRGNVYMKHAIGEDGKQIVVTPENVKYDTLMNGKIIARNLPGNLA\\nTVPIDSNETYLRYNFTHSDNRSYHDGDKSSTRNYRNQNDLMAEGSEYTNS\\nMYNAPRPKRPGSDISGKGYDTSNDRTSLIDDEVRVYKGGSWRDRAYWLDP\\nAQRRFLPQYIATDYIGFRNAMSRVGSKAKKNHKTPKG',\n",
       " '>SEQF2747|SEQF2747_01438 Hercynine oxygenase\\nMKRNLLKVPVYMALAGLLLAGCGKKTDKNTSSATGWKINAKEGGFQYNTD\\nFKDQETGPGLVLIEGGTFTMGQVEDDIMHDWNNTPTQQHVQSFYMDETEV\\nTNKMYMEYLDWLKRVFPPDEEQYRNIYIGALPDTLVWRSPLSANEAMVSN\\nYLRHPAYAEYPVVGVNWVQAVQFSSWRTDRVNEAILERDGYLAKDARYQV\\nDATSTFSTDTYLNAPSQTYGGKIAGEMGGKKTNKEGEATYAKQTSGILLP\\nEYRLPTEVEWEYAAKSLGGIREYNSLQGRKKYPWDSQYTRSTKRRTRGDL\\nLANFKQGKGDYGGLAGWSDDKGDITVAVKTYPPNDFGLYDMAGNVAEWVA\\nDVYRPIVDDEITDFNYYRGNVYMKHAIGEDGKQIVVTPENVKYDTLMNGK\\nIIARNLPGNLATVPIDSNETYLRYNFTHSDNRSYHDGDKSSTRNYRNQND\\nLMAEGSEYTNSMYNAPRPKRPGSDISGKGYDTSNDRTSLIDDEVRVYKGG\\nSWRDRAYWLDPAQRRFLPQYIATDYIGFRNAMSRVGSKAKKNHKTPKG',\n",
       " '>SEQF1909|SEQF1909_00120 Hercynine oxygenase\\nMALAGLLLAGCGKKTDKNTSSATGWKINAKEGGFQYNTDFKDQETGPGLV\\nLIEGGTFTMGQVEDDIMHDWNNTPTQQHVQSFYMDETEVTNKMYMEYLDW\\nLKRVFPPDEEQYRNIYIGALPDTLVWRSPLSANEAMVSNYLRHPAYAEYP\\nVVGVNWVQAVQFSSWRTDRVNEAILERDGYLAKDARYQVDATSTFSTDTY\\nLNAPSQTYGGKIAGEMGGKKTNKEGEATYAKQTSGILLPEYRLPTEVEWE\\nYAAKSLGGIREYNSLQGRKKYPWDSQYTRSTKRRTRGDLLANFKQGKGDY\\nGGLAGWSDDKGDITVAVKTYPPNDFGLYDMAGNVAEWVADVYRPIVDDEI\\nTDFNYYRGNVYMKHAIGEDGKQIVVTPENVKYDTLMNGKIIARNLPGNLA\\nTVPIDSNETYLRYNFTHSDNRSYHDGDKSSTRNYRNSDLMAEGSEYTNSM\\nYNAPRPKKPGSDINGKDYDTSNDRTSLIDDEVRVFKGGSWRDRAYWLDPA\\nQRRFLPQYIATDYIGFRNAMSRVGSKAKKNHKTPKG',\n",
       " '>SEQF2387|SEQF2387_00459 Hercynine oxygenase\\nMKRNLLKVPVYMILAGLLLTGCGKKTDKNTSSATGWKINAKEGGFQYNTD\\nFKDQETGPGLVLIEGGTFTMGEVEDDIMHDWNNTPTQQHVQSFYMDETEV\\nTNKMYMEYLDWLKRVFPPDEEQYRNIYIGALPDTLVWRSPLSANEAMVSN\\nYLRHPAYAEYPVVGVNWVQAVQFSSWRTDRVNEAILERDGYLAKDARYQV\\nDATSTFSTDTYLNAPSQTYGGKIAGEMGGKKTNKEGEATYAKQTSGILLP\\nEYRLPSEVEWEYAAKSLGGIREYNSLQGRKKYPWDSQYTRSTKRRTRGDL\\nLANFKQGKGDYGGLAGWSDDKGDITVAVKTYPPNDFGLYDMAGNVAEWVA\\nDVYRPIVDDEITDFNYYRGNVYMKHAIGEDGKQIVVTPENVKYDTLMNGK\\nIIARNLPGNLATVPIDSNETYLRYNFTHSDNRSYHDGDKSSTRNYRNQND\\nLMAEGSEYTNSMYNAPRPKRPGSDISGKGYDTSNDRTSLIDDEVRVYKGG\\nSWRDRAYWLDPAQRRFLPQYIATDYIGFRNAMSRVGSKAKKNHKTPKG',\n",
       " '>SEQF1006|SEQF1006_01598 Hercynine oxygenase\\nMKRNLLKVPVYMILAGLLLTGCGKKTDKNTSSATGWKINAKEGGFQYNTD\\nFKDQETGPGLVLIEGGTFTMGEVEDDIMHDWNNTPTQQHVQSFYMDETEV\\nTNKMYMEYLDWLKRVFPPDEEQYRNIYIGALPDTLVWRSPLSANEAMVSN\\nYLRHPAYAEYPVVGVNWVQAVQFSSWRTDRVNEAILERDGYLAKDARYQV\\nDATSTFSTDTYLNAPSQTYGGKIAGEMGGKKTNKEGEATYAKQTSGILLP\\nEYRLPSEVEWEYAAKSLGGIREYNSLQGRKKYPWDSQYTRSTKRRTRGDL\\nLANFKQGKGDYGGLAGWSDDKGDITVAVKTYPPNDFGLYDMAGNVAEWVA\\nDVYRPIVDDEITDFNYYRGNVYMKHAIGEDGKQIVVTPENVKYDTLMNGK\\nIIARNLPGNLATVPIDSNETYLRYNFTHSDNRSYHDGDKSSTRNYRNQND\\nLMAEGSEYTNSMYNAPRPKRPGSDISGKGYDTSNDRTSLIDDEVRVYKGG\\nSWRDRAYWLDPAQRRFLPQYIATDYIGFRNAMSRVGSKAKKNHKTPKG',\n",
       " '>SEQF3058|SEQF3058_01690 Hercynine oxygenase\\nMKRNLLKVPVYMALAGLLLAGCGKKTDKNTSSATGWKINAKEGGFQYNTD\\nFKDQETGPGLVLIEGGTFTMGQVEDDIMHDWNNTPTQQHVQSFYMDETEV\\nTNKMYMEYLDWLKRVFPPDEEQYRNIYIGALPDTLVWRSPLSANEAMVSN\\nYLRHPAYAEYPVVGVNWVQAVQFSSWRTDRVNEAILERDGYLAKDARYQV\\nDATSTFSTDTYLNAPSQTYGGKIAGEMGGKKTNKEGEATYAKQTSGILLP\\nEYRLPSEVEWEYAAKSLGGIREYNSLQGRKKYPWDSQYTRSTKRRTRGDL\\nLANFKQGKGDYGGLAGWSDDKGDITVAVKTYPPNDFGLYDMAGNVAEWVA\\nDVYRPIVDDEITDFNYYRGNVYMKHAIGEDGKQIVVTPENVKYDTLMNGK\\nIIARNLPGNLATVPIDSNETYLRYNFTHSDNRSYHDGDKSSTRNYRNQND\\nLMAEGSEYTNSMYNAPRPKRPGSDISGKGYDTSNDRTSLIDDEVRVYKGG\\nSWRDRAYWLDPAQRRFLPQYIATDYIGFRNAMSRVGSKAKKNHKTPKG',\n",
       " '>SEQF1970|SEQF1970_00205 Hercynine oxygenase\\nMKRNLLKVPVYMALAGLLLAGCGKKTDKNTSSATGWKINAKEGGFQYNTD\\nFKDQETGPGLVLIEGGTFTMGQVEDDIMHDWNNTPTQQHVQSFYMDETEV\\nTNKMYMEYLDWLKRVFPPDEEQYRNIYIGALPDTLVWRSPLSANEAMVSN\\nYLRHPAYAEYPVVGVNWVQAVQFSSWRTDRVNEAILERDGYLAKDARYQV\\nDATSTFSTDTYLNAPSQTYGGKIAGEMGGKKTNKEGEATYAKQTSGILLP\\nEYRLPSEVEWEYAAKSLGGIREYNSLQGRKKYPWDSQYTRSTKRRTRGDL\\nLANFKQGKGDYGGLAGWSDDKGDITVAVKTYPPNDFGLYDMAGNVAEWVA\\nDVYRPIVDDEITDFNYYRGNVYMKHAIGEDGKQIVVTPENVKYDTLMNGK\\nIIARNLPGNLATVPIDSNETYLRYNFTHSDNRSYHDGDKSSTRNYRNQND\\nLMAEGSEYTNSMYNAPRPKRPGSDISGKGYDTSNDRTSLIDDEVRVYKGG\\nSWRDRAYWLDPAQRRFLPQYIATDYIGFRNAMSRVGSKAKKNHKTPKG',\n",
       " '>SEQF1950|SEQF1950_01418 Hercynine oxygenase\\nMALAGLLLAGCGKKTDKNTSSATGWKINAKEGGFQYNTDFKDQETGPGLV\\nLIEGGTFTMGQVEDDIMHDWNNTPTQQHVQSFYMDETEVTNKMYMEYLDW\\nLKRVFPPDEEQYRNIYIGALPDTLVWRSPLSANEAMVSNYLRHPAYAEYP\\nVVGVNWVQAVQFSSWRTDRVNEAILERDGYLAKDARYQVDATSTFSTDTY\\nLNAPSQTYGGKIAGEMGGKKTNKEGEATYAKQTSGILLPEYRLPSEVEWE\\nYAAKSLGGIREYNSLQGRKKYPWDSQYTRSTKRRTRGDLLANFKQGKGDY\\nGGLAGWSDDKGDITVAVKTYPPNDFGLYDMAGNVAEWVADVYRPIVDDEI\\nTDFNYYRGNVYMKHAIGEDGKQIVVTPENVKYDTLMNGKIIARNLPGNLA\\nTVPIDSNETYLRYNFTHSDNRSYHDGDKSSTRNYRNQNDLMAEGSEYTNS\\nMYNAPRPKRPGSDISGKGYDTSNDRTSLIDDEVRVYKGGSWRDRAYWLDP\\nAQRRFLPQYIATDYIGFRNAMSRVGSKAKKNHKTPKG',\n",
       " '>SEQF1906|SEQF1906_00134 Hercynine oxygenase\\nMALAGLLLAGCGKKTDKNTSSATGWKINAKEGGFQYNTDFKDQETGPGLV\\nLIEGGTFTMGQVEDDIMHDWNNTPTQQHVQSFYMDETEVTNKMYMEYLDW\\nLKRVFPPDEEQYRNIYIGALPDTLVWRSPLSANEAMVSNYLRHPAYAEYP\\nVVGVNWVQAVQFSSWRTDRVNEAILERDGYLAKDARYQVDATSTFSTDTY\\nLNAPSQTYGGKIAGEMGGKKTNKEGEATYAKQTSGILLPEYRLPSEVEWE\\nYAAKSLGGIREYNSLQGRKKYPWDSQYTRSTKRRTRGDLLANFKQGKGDY\\nGGLAGWSDDKGDITVAVKTYPPNDFGLYDMAGNVAEWVADVYRPIVDDEI\\nTDFNYYRGNVYMKHAIGEDGKQIVVTPENVKYDTLMNGKIIARNLPGNLA\\nTVPIDSNETYLRYNFTHSDNRSYHDGDKSSTRNYRNQNDLMAEGSEYTNS\\nMYNAPRPKRPGSDISGKGYDTSNDRTSLIDDEVRVYKGGSWRDRAYWLDP\\nAQRRFLPQYIATDYIGFRNAMSRVGSKAKKNHKTPKG',\n",
       " '>SEQF1008|SEQF1008_00773 Hercynine oxygenase\\nMALAGLLLAGCGKKTDKNTSSATGWKINAKEGGFQYNTDFKDQETGPGLV\\nLIEGGTFTMGQVEDDIMHDWNNTPTQQHVQSFYMDETEVTNKMYMEYLDW\\nLKRVFPPDEEQYRNIYIGALPDTLVWRSPLSANEAMVSNYLRHPAYAEYP\\nVVGVNWVQAVQFSSWRTDRVNEAILERDGYLAKDARYQVDATSTFSTDTY\\nLNAPSQTYGGKIAGEMGGKKTNKEGEATYAKQTSGILLPEYRLPSEVEWE\\nYAAKSLGGIREYNSLQGRKKYPWDSQYTRSTKRRTRGDLLANFKQGKGDY\\nGGLAGWSDDKGDITVAVKTYPPNDFGLYDMAGNVAEWVADVYRPIVDDEI\\nTDFNYYRGNVYMKHAIGEDGKQIVVTPENVKYDTLMNGKIIARNLPGNLA\\nTVPIDSNETYLRYNFTHSDNRSYHDGDKSSTRNYRNQNDLMAEGSEYTNS\\nMYNAPRPKRPGSDISGKGYDTSNDRTSLIDDEVRVYKGGSWRDRAYWLDP\\nAQRRFLPQYIATDYIGFRNAMSRVGSKAKKNHKTPKG',\n",
       " '>SEQF3176|SEQF3176_00690 hypothetical protein\\nMKRNLLKVPVYMALAGLLLTGCGKKTDKNISSATGWKINAKEGGFQYNTD\\nFKDQETGPGLVLIEGGTFTMGEVEDDIMHDWNNTPTQQHVQSFYMDETEV\\nTNKMYMEYLDWLKRVFPPDEEQYRNIYIGALPDTLVWRSPLSANEAMVSN\\nYLRHPAYAEYPVVGVNWVQAVQFSSWRTDRVNEAILERDGYLAKDARYQV\\nDATSTFSTDTYLNAPSQTYGGKIAGEMGGKKTNKEGEATYAKQTSGILLP\\nEYRLPTEVEWEYAAKSLGGIREYNSLQGRKKYPWNSQYTRSTKRRTRGDL\\nLANFKQGKGDYGGLAGWSDDKGDITVAVKTYPPNDFGLYDMAGNVAEWVA\\nDVYRPIVDDEITDFNYYRGNVYMKHAIGEDGKQIVVTPENVKYDTLMNGK\\nIIARNLPGNLATVPIDSNETYLRYNFTHSDNRSYHDGDKSSTRNYRNQSD\\nLMAEGSEYTNSMYNAPRPKKPGSDINGKDYDTSNDRTSLIDDEVRVFKGG\\nSWRDRAYWLDPAQRRFLPQYIATDYIGFRNAMSRVGSKAKKNHKTPKG',\n",
       " '>SEQF1938|SEQF1938_00945 Hercynine oxygenase\\nMALAGLLLAGCGKKTDKNTSSATGWKINAKEGGFQYNTDFKDQETGPGLV\\nLIEGGTFTMGQVEDDIMHDWNNTPTQQHVQSFYMDETEVTNKMYMEYLDW\\nLKRVFPPDEEQYRNIYIGALPDTLVWRSPLSANEAMVSNYLRHPAYAEYP\\nVVGVNWVQAVQFSSWRTDRVNEAILERDGYLAKDARYQVDATSTFSTDTY\\nLNAPSQTYGGKIAGEMGGKKTNKEGEATYAKQTSGILLPEYRLPSEVEWE\\nYAAKSLGGIREYNSLQGRKKYPWDSQYTRSTKRRTRGDLLANFKQGKGDY\\nGGLAGWSDDKGDITVAVKTYPPNDFGLYDMAGNVAEWVADVYRPIVDDEI\\nTDFNYYRGNVYMKHAISEDGKQIVVTPENVKYDTLMNGKIIARNLPGNLA\\nTVPIDSNETYLRYNFTHSDNRSYHDGDKSSTRNYRNQNDLMAEGSEYTNS\\nMYNAPRPKRPGSDISGKGYDTSNDRTSLIDDEVRVYKGGSWRDRAYWLDP\\nAQRRFLPQYIATDYIGFRNAMSRVGSKAKKNHKTPKG',\n",
       " '>SEQF2788|SEQF2788_00504 Hercynine oxygenase\\nMVKKVSLYLKILLPCTRIFMLTSVFTMRRNLLKVPVFVALAGLLLASCGG\\nKKSDKNTSSATGWKINAKEGGFQYNTDFKDQETGPGLVLIEGGTFTMGQV\\nQDNVMHDWDNMPTQQHVQSFYMDETEVTNKMYMEYLDWLKRVFPPDQEQY\\nRNIYIGALPDTLVWRSPLSANEAMVTNYLRHPAYAEYPVVGVNWVQAVQF\\nSTWRTDRVNEAILERDGFLAKDARYNVDAQSTFSTDTYLNAPSETYGGKI\\nQGEMGGKKATDKNGETAYAKQTSGILLPEYRLPTEAEWEYAAKSLNGIRE\\nYNSLQGRKKYPWDSQYTRSTKRRTRGDQLANFKQGKGDYGGLAGWSDDKG\\nDITVAVKTYPPNDFGLYDMAGNVAEWVADVYRPIIDDEISDFNYYRGNVY\\nMKHAIDKDGKQVVVTTENVKYDTLPNGKIIARNLPGNLATIPIDSSETYL\\nRYNFTHSDNRSYHDGDKASTRNYRGQDEMMTADADYVNSMYNAPKPKKQG\\nTSPNGKDYDTSNDRTSLIDDEVRVYKGGSWRDRAYWIDPAQRRYLPQYIA\\nTDYIGFRNAMSRVGSKAKKNHKTPKG',\n",
       " '>SEQF1900|SEQF1900_02665 Hercynine oxygenase\\nMKRSLLRIPICIALTGLLLTSCGGKKSDRNVSSATGWRINAKEGGFQYNT\\nDFKDQETGPGLVLIEGGTFTMGQVQDNVMHDWNNTPTQQHVQSFYMDETE\\nVTNKMYMEYLDWLKRVFPPDQEQYRNIYIGALPDTLVWRGPLSANEAMVN\\nNYLRHPAYAEYPVVGVNWVQAVQFSSWRTDRVNEAILERDGYLARDARYQ\\nVDAQSTFSTDTYLNAPTQTYGGKIAGEMGGKNTNKDGEPSYAKQTSGVLL\\nPEYRLPTEVEWEYAAKSLNGIREYNSLQGRKKYPWDSQYTRSTKRSTRGE\\nLMANFKQGKGDYGGLAGWSDDKGDITVAVKTYPPNDFGLYDMAGNVAEWV\\nADVYRPIVDDEKSDFNYYRGNVYMKHAIGEDGKQIVVTPESVKYDTLSNR\\nKIIARNLPGNLATVPIDSNETYLRYNFTHADNRSYNDGEKSSTRNFRNQG\\nGLMAPGAEYTNSMYNAPRPKKPGSELNGKDYDTSNDRTSLIDDEVRVFKG\\nGSWRDRAYWIDPAQRRFLPQYIATDYIGFRNAMSRVGSKSKTNHRTPKG',\n",
       " '>SEQF1576|SEQF1576_00329 Hercynine oxygenase\\nMKRSLLRIPICIALTGLLLTSCGGKKSDRNVSSATGWRINAKEGGFQYNT\\nDFKDQETGPGLVLIEGGTFTMGQVQDNVMHDWNNTPTQQHVQSFYMDETE\\nVTNKMYMEYLDWLKRVFPPDQEQYRNIYIGALPDTLVWRGPLSANEAMVN\\nNYLRHPAYAEYPVVGVNWVQAVQFSSWRTDRVNEAILERDGYLARDARYQ\\nVDAQSTFSTDTYLNAPTQTYGGKIAGEMGGKNTNKEGEPSYAKQTSGVLL\\nPEYRLPTEVEWEYAAKSLNGIREYNSLQGRKKYPWDSQYTRSTKRSTRGE\\nLLANFKQGKGDYGGLAGWSDDKGDITVAVKTYPPNDFGLYDMAGNVAEWV\\nADVYRPIIDDEKSDFNYYRGNVYMKHAIGEDGKQIVVTPESVKYDSLPNR\\nRVIARNLPGSLATVPIDSNETYLRYNFTHADNRSYNDGEKSSTRNFRNQN\\nELLAPGAEYTNSMYNAPRFKKPGTELNGKDYDTSNDRTSLIDDEVRVFKG\\nGSWRDRAYWIDPAQRRYLPQYIATDYIGFRNAMSRVGSKSKKDHRTPKG',\n",
       " '>SEQF1937|SEQF1937_02399 Hercynine oxygenase\\nMKRSLLKVPFYLAVTSLLIAGCAGGNKTDRNTSSATGWKINAKEGGFQYN\\nTDFKDQETGPGLVLIEGGTFTMGQVQDNVMHDWNNMPTQQHIQSFYMDET\\nEVTNKMYMEYLDWLKRVFPPDEEQYKNIYRGALPDTLVWRSPLSANEAMV\\nANYLRHPAFAEYPVVGVNWVQAVQFSAWRTDRVNEAILSRDGYLAKDARY\\nQVDATSTFSTDTYLNTPSQTYGGKIQGEMGGKKSGKEGQTAYVKQTSGIL\\nLPDYRLPTEAEWEYAAKSLNGIRQYNTLQGRKKYPWNSQYTRSTERRTRG\\nEQMANFKQGKGDYGGLAGWSDDKGDITVAVKTYPPNDFGLYDMAGNVAEW\\nVADVYRPILDDEVSDFNYYRGNVYMKHAIGEDGKQVIVTPETIKYDTLPN\\nGKVVARNLPGNIATVPVDSSETYLRYNFTHSDNRSYNDGDKASTRNFRNQ\\nNDLMAGGAEYVNSMYNAPKPKKPGSDIGGKDYDTSNDRTSLIDDEVRVYK\\nGGSWRDRAFWIDPAQRRYLPQYIATDYIGFRNAMSRVGSKSKTGHRTPKG',\n",
       " '>SEQF3059|SEQF3059_02109 Hercynine oxygenase\\nMLYSKKVVSCARIFMLTSVFTMKRSLLKVPFYLALTGLLLTSCGGGSKSD\\nKNISSATGWKINSKEGGFQYNTDFKDQETGPGLVLIEGGTFTMGQVQDNV\\nMHDWNNMPTQQHVQSFYMDETEVTNKMYMEYLDWLKRVFPPDDEQYKNIY\\nKGALPDTLVWRSELSANEAMVANYLRHPAFAEYPVVGVNWVQAVQFSAWR\\nTDRVNEAILARDGYLAKDARYQVDATSTFSTDTYLNAPSQTYGGKVQGEM\\nGGKKSSKEGETQYAKQTSGIILPDYRLPTEAEWEYAAKSLGGIRKYNSLQ\\nGRKKYPWDSQYTRYTERKRRGEQMANFKQNKGDYGGLAGWSEDRGDITVA\\nVKTYAPNDFGLYDMAGNVAEWVADVYRPIIDDEKSDFNYFRGNVYMKHAI\\nGEDGKQVVVTPETIKYDTLPNTRIIARNLPGNLATVPVDSSDTYLRYNFT\\nRSDNRSYRDGDKASTRNFRNQNDMMTPEAEYANSMYNAPKPKKFGTEING\\nKDYDTSNDRTSLIDDEVRVFKGGSWRDRAFWIDPAQRRYLPQYIATDYIG\\nFRNAMSRVGSKSKANHRTPKG',\n",
       " '>SEQF3157|SEQF3157_01861 Hercynine oxygenase\\nMHKVLRLKNFTILLGAVALMASCNKNKGPKSDMTGWKYNDKNMGGYNVAK\\nAKNVKTGPGLVFVQGGTFTMGATTEDIMGDWNNIPRRVTVNSFFIDKTEV\\nANVHYREYIHWIESVFSDPQYDAVVQGAKPDTLVWRSELAFNEPYVEYYF\\nRHPSYNFYPVVGVSWKQAHDFSIWRTDRVNEGELINAGYQNKNTIKTEMA\\nGGGQENFNTKAYLMGEYQGVPGKPKKNALKDAQGRPRTHVNFDDGILLPG\\nYRLPTEAEWEYAALGYINQNPQVRKSEKKRGEENNTNRQIYSWQNDGYDN\\nLRATRRGAWQGSFLANFKRGSGDNMGVAGGLNDRSAIPAEVTAFFPNGFG\\nVYNMSGNVSEWVADVYRPLTNQEADDFNPYRGNRFQKVDLSGGEGNLRDS\\nLGRIKMVDENDSTLRMRRNYQRSYAINYLDGDSTSNVSYGYGLTTLVSDQ\\nSRVIKGGSWNDRAYWLSPGTRRFLEEDQSSSTVGFRCAMIAPGSPEGNGR\\nKTGNFFPKRRQKR',\n",
       " '>SEQF1451|SEQF1451_01601 hypothetical protein\\nMNISKNILGLILLSFILVGCNKKSNLGAGRSERTGWEYNKPNKGFFNVES\\nTYTGLVPPGCIYVETGSYVKGQNEDPISTQQDARKRRIEVAGFFMDEFEV\\nTNINWREYVAWLQGVYAHNPKKYLAALPDETVWRSELAYNDPQVRNYYSH\\nVAYGYYPVVGISWEQAMDYCAWRTDRANERILIDKKLIDFVDLETVSSNI\\nQNADSSEYGKFIFFTGKKNEYMRENGRKENVDLDGVIYDAEFRLPTESEW\\nEYAAYGVVSTTDEEHNFDNGSTYPWAGYQLRYMKKGKNKGKFMANFVRGK\\nGDQVAFTRNNSMTVPVDFYLPNGFGLYNMAGNVNEWVLDVYRATSDDLFD\\nELNSYRGNHWISDSAYAETILDRMPPMEADVRDSMRNYLVNEKKFYQTGR\\nDVRDFRDGDAYSSIGDSVLVYKDASYIEQATMISNSARIYKGGSWKDRGI\\nWLNPSKRRWLDQKDKASDIGFRCAMSAVGGKKNRQ']"
      ]
     },
     "execution_count": 13,
     "metadata": {},
     "output_type": "execute_result"
    }
   ],
   "source": [
    "AA=[] #creating an empty list for AA sequences \n",
    "for a in range(len(Websites1)):  # Using Chrome to access web\n",
    "    driver = webdriver.Chrome(r\"C:\\Users\\sofia\\.wdm\\drivers\\chromedriver\\win32\\96.0.4664.45.exe\", options=options)\n",
    "    # Open the website\n",
    "    driver.get(Websites1[a]) # searching each individual website\n",
    "    search_box = driver.find_element_by_id('keyword') #finding the searchbox\n",
    "    search_box.clear() #clearing the box\n",
    "    search_box.send_keys(Final_file[a]) # Send SEQF information\n",
    "    search_box.send_keys(Keys.RETURN)  # Click Enter\n",
    "    time.sleep(3) #allowing the website to load\n",
    "    driver.find_elements_by_class_name('showstate3') #differentiating between NA and AA hyperlinks\n",
    "    parentGUID = driver.current_window_handle#determining the ID of the current tab/window\n",
    "    time.sleep(3) #letting the website load\n",
    "    driver.find_elements_by_class_name(\"showstate3\")[1].click() #Selecting the hyperlink for AA\n",
    "    allGUID = driver.window_handles\n",
    "    driver.switch_to_window(allGUID[1]) #switching to window 2\n",
    "    text = driver.find_element_by_tag_name(\"pre\").text #finding body of text   \n",
    "    \n",
    "    AA.append(text) #adding text to list \n",
    "    driver.close()\n",
    "AA"
   ]
  },
  {
   "cell_type": "code",
   "execution_count": 14,
   "id": "8e87a37c",
   "metadata": {},
   "outputs": [],
   "source": [
    "textfile = open(\"AA.txt\", \"w\")\n",
    "for element in AA:\n",
    "    textfile.write(element + \"\\n\")\n",
    "textfile.close() #saving AA list as a text file"
   ]
  },
  {
   "cell_type": "code",
   "execution_count": 15,
   "id": "9bfe97c4",
   "metadata": {},
   "outputs": [],
   "source": [
    "with open('AA.txt') as fo: #opening the file of AA sequences\n",
    "    for line in fo:\n",
    "        if \"SEQF\" in line: #locating each line that contains SEQF\n",
    "            line=\"/t\" #replacing the whole line with \\t\n",
    "        newfile=open(\"newAA.txt\",'a')\n",
    "        newfile.write(line) #creating new file with no sequence identifiers\n",
    "        newfile.close()"
   ]
  },
  {
   "cell_type": "code",
   "execution_count": 16,
   "id": "abf1bbae",
   "metadata": {},
   "outputs": [],
   "source": [
    "AA1=open('newAA.txt').read()\n",
    "AA2=AA1.split('/t') #splitting the document at every /t\n",
    "AA3= AA2[1:] # skipping over the first /t"
   ]
  },
  {
   "cell_type": "code",
   "execution_count": 17,
   "id": "ea8c91cb",
   "metadata": {},
   "outputs": [
    {
     "name": "stdout",
     "output_type": "stream",
     "text": [
      "[('>Capnocytophaga_gingivalis_ATCC_33624', 'MDMQSLKKPMLASLLVAAFLVGCGKKGSDKNTSSATGWKINAKEGGFQYN\\nTNFKEQVTGPGLVFVEGGTFTMGKVQDDVMHDWNNTPSQQHVQSFYMDET\\nEVTNKMYMEYLDWLKQVFPPEDKDGHYKNIYLGALPDTLVWRSPLSANET\\nMVSEYLRHPAYAEYPVVGVNWVQATQFSSWRTNRVNESILEKDGYIQQGS\\nRYQVDAESTFSTDTYLNTPENSYGRKVSEFAGKKATNKDGNVTYAKQTEG\\nILLPEYRLPTEVEWEYAAKSLNGIREYNSIRGRKKYPWAGRYTRNGKRAE\\nMGNQMANFKQGQGDYGGLAGWSEDKGDITTKVKTFAPNDFGLYDMAGNVA\\nEWVADVYRPRVDDELSDFNYYRGNVYTKNKIGEDGKLVVVDAQSITYDTL\\nSNGRIIARNLPGQLAKVAVDDNETYLRYNFTTADNRNYRDGDRVSSKEYA\\nKLTMDRHSENIDSLTASQRANVSRTMYNSPNQKILSDGQGGIIKVYDRSN\\nDRTTLIDDEARVIKGGSWRDRAYWIDPAQRRYLPQYSATDYIGFRCAMSR\\nVGSKAKKGKSSRG\\n'), ('>Capnocytophaga_granulosa_ATCC_51502', 'MLASLLAATFLVSCGSKNGGDKNTSSATGWKINAKEGGFQYNTNFKEQVT\\nGPGLVFIEGGTFTMGKVQDDVMHDWNNTPSQQHVQSFYMDETEVTNKMYM\\nEYLDWLKQVFPPEDKDGHYKNIYLGALPDTLVWRSPLSANETMVTDYLRH\\nPAFANYPVVGVSWVQAVQFSSWRTNRVNEAILEQDGYIQKGSRYQVDAES\\nTFSTDTYLNTPENSYGRKVTEFAGKKATNKDGNTTYAKQTEGILLPEYRL\\nPTEAEWEYAAKSLNGIREYNSIRGRKKYPWAGRYTRNGRRSVMGNQMANF\\nKQGQGDYGGLAGWSEDSGDITSAVKTFEPNDFGLYDMAGNVAEWVADIYR\\nPRVDDELSDFNYFRGNVYTKNKIGEDGKFVVIDAQTITYDTLSNGRIYAK\\nNLPGQLAKVAVDENETYLRYNFNTADNRNFRDGDRVSSKEYAKLTRERTE\\nVSFDSLNASQRANVSRTMYNSPNQKVIPDGQGGIVKVYDRSNDRTTLVDD\\nESRVFKGGSWKDRAYYIDPAQRRFLPQYSATDYIGFRCAMSRVGSKSKKG\\nKTSRG\\n'), ('>Capnocytophaga_sp_HMT_338_F0234', 'MDIRSFKKPMLATLLVATFLVGCGKKGTDKNTSSATGWKINSKEGGFQYN\\nTDFKEQVTGPGLVFIEGGTFTMGKVQDDVMHDWNNTPSQQHIQSFYMDET\\nEVTNKMYMEYLDWLKRVFPPEDKEGHYKNIYLGALPDTLVWRSPLSANET\\nMVSEYLRHPAYADYPVVGVNWVQATQFSSWRTNRVNEAILEKDGFIQQGS\\nRYQVDAESTFSTDTYLNTPENSYGRKVTEFAGKKATDKEGNTTYAKQTSG\\nILLPEYRLPTEAEWEYAAKSLSGIREYNSIRGRKKYPWAGRYTRTGKRAV\\nMGDQLANFKQGQGDYGGLAGWSDDKGDITTAVKTFPANDFGLYDMAGNVA\\nEWVADVYRPRVDDEMSDFNYYRGNVYMKNKIGEDGKLVVVDAQTITYDTL\\nSNGRIVARNLPGQLAKVPVDGNETYLRYNFQNADNRNYRDGDRASSKDYV\\nKLTLEKGERSLDSLNASQRANVSRTMYNSPDQKILSDGHGGIIKRYDPSN\\nDRTTLIDDEARVIKGGSWRDRAYWIDPAQRRFLPQYSATDYIGFRCAMSR\\nVGSKAKKNKTSRG\\n'), ('>Capnocytophaga_sp_HMT_863_F0517', 'MLASLLAATFLVGCGGKSGGSSGDKNTSGATGWKINAKEGGFQYNTNFKE\\nQITAPGLVFVEGGTFTMGKVQDDVMHDWNNTPSQQHVQSFYMDETEVTNK\\nMYMEYLDWLKQVFPPEDKDGHYKNIYLGALPDTLVWRSPLSANETMVNEY\\nLRHPAYASYPVVGVNWVQAVQFSSWRTNRVNESLLEKDGFIQQGSRYQVD\\nAESTFSTDTYLNTPENSYGRKVTEFAGKKATNKEGNPTYAKHTDGILLPE\\nYRLPTEVEWEYAAKSLSGIREYNSVRGRKKYPWAGRYTRNGRRAIMGNQM\\nANFKQGQGDYGGLAGWSEDSGDITTAVKTFEPNDFGLYDMAGNVAEWVAD\\nVYRPIVDDELSDFNYYRGNVYTKNKIGEDGKFVIVDAQSITYDTLSNGRI\\nIARNLPGQLAKIAVDENETYLRYNFTTADNRNFRDGDRVSSKEYVKLTRE\\nKTEVSLDSLNASQRANVSRSMYNSPNQKIIADGQGGIVKVYDRSNDRTTL\\nVDDESRVFKGGSWRDRAYYIDPAQRRFLPQYSATDYIGFRCAMSRVGAKS\\nKTGKTSRG\\n'), ('>Capnocytophaga_sp_HMT_902_W10638', 'MALAGLLLAGCGKKTDKNTSSATGWKINAKEGGFQYNTDFKDQETGPGLV\\nLIEGGTFTMGQVEDDIMHDWNNTPTQQHVQSFYMDETEVTNKMYMEYLDW\\nLKRVFPPDEEQYRNIYIGALPDTLVWRSPLSANEAMVSNYLRHPAYAEYP\\nVVGVNWVQAVQFSSWRTDRVNEAILERDGYLAKDARYQVDATSTFSTDTY\\nLNAPSQTYGGKIAGEMGGKKTNKEGEATYAKQTSGILLPEYRLPTEVEWE\\nYAAKSLGGIREYNSLQGRKKYPWDSQYTRSTKRRTRGDLLANFKQGKGDY\\nGGLAGWSDDKGDITVAVKTYPPNDFGLYDMAGNVAEWVADVYRPIVDDEI\\nTDFNYYRGNVYMKHAIGEDGKQIVVTPENVKYDTLMNGKIIARNLPGNLA\\nTVPIDSNETYLRYNFTHSDNRSYHDGDKSSTRNYRNQNDLMAEGSEYTNS\\nMYNAPRPKRPGSDISGKGYDTSNDRTSLIDDEVRVYKGGSWRDRAYWLDP\\nAQRRFLPQYIATDYIGFRNAMSRVGSKAKKNHKTPKG\\n'), ('>Capnocytophaga_sp_HMT_323_F0383', 'MKRNLLKVPVYMALAGLLLAGCGKKTDKNTSSATGWKINAKEGGFQYNTD\\nFKDQETGPGLVLIEGGTFTMGQVEDDIMHDWNNTPTQQHVQSFYMDETEV\\nTNKMYMEYLDWLKRVFPPDEEQYRNIYIGALPDTLVWRSPLSANEAMVSN\\nYLRHPAYAEYPVVGVNWVQAVQFSSWRTDRVNEAILERDGYLAKDARYQV\\nDATSTFSTDTYLNAPSQTYGGKIAGEMGGKKTNKEGEATYAKQTSGILLP\\nEYRLPTEVEWEYAAKSLGGIREYNSLQGRKKYPWDSQYTRSTKRRTRGDL\\nLANFKQGKGDYGGLAGWSDDKGDITVAVKTYPPNDFGLYDMAGNVAEWVA\\nDVYRPIVDDEITDFNYYRGNVYMKHAIGEDGKQIVVTPENVKYDTLMNGK\\nIIARNLPGNLATVPIDSNETYLRYNFTHSDNRSYHDGDKSSTRNYRNQND\\nLMAEGSEYTNSMYNAPRPKRPGSDISGKGYDTSNDRTSLIDDEVRVYKGG\\nSWRDRAYWLDPAQRRFLPQYIATDYIGFRNAMSRVGSKAKKNHKTPKG\\n'), ('>Capnocytophaga_sp_HMT_412_F0487', 'MALAGLLLAGCGKKTDKNTSSATGWKINAKEGGFQYNTDFKDQETGPGLV\\nLIEGGTFTMGQVEDDIMHDWNNTPTQQHVQSFYMDETEVTNKMYMEYLDW\\nLKRVFPPDEEQYRNIYIGALPDTLVWRSPLSANEAMVSNYLRHPAYAEYP\\nVVGVNWVQAVQFSSWRTDRVNEAILERDGYLAKDARYQVDATSTFSTDTY\\nLNAPSQTYGGKIAGEMGGKKTNKEGEATYAKQTSGILLPEYRLPTEVEWE\\nYAAKSLGGIREYNSLQGRKKYPWDSQYTRSTKRRTRGDLLANFKQGKGDY\\nGGLAGWSDDKGDITVAVKTYPPNDFGLYDMAGNVAEWVADVYRPIVDDEI\\nTDFNYYRGNVYMKHAIGEDGKQIVVTPENVKYDTLMNGKIIARNLPGNLA\\nTVPIDSNETYLRYNFTHSDNRSYHDGDKSSTRNYRNSDLMAEGSEYTNSM\\nYNAPRPKKPGSDINGKDYDTSNDRTSLIDDEVRVFKGGSWRDRAYWLDPA\\nQRRFLPQYIATDYIGFRNAMSRVGSKAKKNHKTPKG\\n'), ('>Capnocytophaga_ochracea_str_Holt_25', 'MKRNLLKVPVYMILAGLLLTGCGKKTDKNTSSATGWKINAKEGGFQYNTD\\nFKDQETGPGLVLIEGGTFTMGEVEDDIMHDWNNTPTQQHVQSFYMDETEV\\nTNKMYMEYLDWLKRVFPPDEEQYRNIYIGALPDTLVWRSPLSANEAMVSN\\nYLRHPAYAEYPVVGVNWVQAVQFSSWRTDRVNEAILERDGYLAKDARYQV\\nDATSTFSTDTYLNAPSQTYGGKIAGEMGGKKTNKEGEATYAKQTSGILLP\\nEYRLPSEVEWEYAAKSLGGIREYNSLQGRKKYPWDSQYTRSTKRRTRGDL\\nLANFKQGKGDYGGLAGWSDDKGDITVAVKTYPPNDFGLYDMAGNVAEWVA\\nDVYRPIVDDEITDFNYYRGNVYMKHAIGEDGKQIVVTPENVKYDTLMNGK\\nIIARNLPGNLATVPIDSNETYLRYNFTHSDNRSYHDGDKSSTRNYRNQND\\nLMAEGSEYTNSMYNAPRPKRPGSDISGKGYDTSNDRTSLIDDEVRVYKGG\\nSWRDRAYWLDPAQRRFLPQYIATDYIGFRNAMSRVGSKAKKNHKTPKG\\n'), ('>Capnocytophaga_ochracea_F0287', 'MKRNLLKVPVYMILAGLLLTGCGKKTDKNTSSATGWKINAKEGGFQYNTD\\nFKDQETGPGLVLIEGGTFTMGEVEDDIMHDWNNTPTQQHVQSFYMDETEV\\nTNKMYMEYLDWLKRVFPPDEEQYRNIYIGALPDTLVWRSPLSANEAMVSN\\nYLRHPAYAEYPVVGVNWVQAVQFSSWRTDRVNEAILERDGYLAKDARYQV\\nDATSTFSTDTYLNAPSQTYGGKIAGEMGGKKTNKEGEATYAKQTSGILLP\\nEYRLPSEVEWEYAAKSLGGIREYNSLQGRKKYPWDSQYTRSTKRRTRGDL\\nLANFKQGKGDYGGLAGWSDDKGDITVAVKTYPPNDFGLYDMAGNVAEWVA\\nDVYRPIVDDEITDFNYYRGNVYMKHAIGEDGKQIVVTPENVKYDTLMNGK\\nIIARNLPGNLATVPIDSNETYLRYNFTHSDNRSYHDGDKSSTRNYRNQND\\nLMAEGSEYTNSMYNAPRPKRPGSDISGKGYDTSNDRTSLIDDEVRVYKGG\\nSWRDRAYWLDPAQRRFLPQYIATDYIGFRNAMSRVGSKAKKNHKTPKG\\n'), ('>Capnocytophaga_sp_HMT_864_F0512', 'MKRNLLKVPVYMALAGLLLAGCGKKTDKNTSSATGWKINAKEGGFQYNTD\\nFKDQETGPGLVLIEGGTFTMGQVEDDIMHDWNNTPTQQHVQSFYMDETEV\\nTNKMYMEYLDWLKRVFPPDEEQYRNIYIGALPDTLVWRSPLSANEAMVSN\\nYLRHPAYAEYPVVGVNWVQAVQFSSWRTDRVNEAILERDGYLAKDARYQV\\nDATSTFSTDTYLNAPSQTYGGKIAGEMGGKKTNKEGEATYAKQTSGILLP\\nEYRLPSEVEWEYAAKSLGGIREYNSLQGRKKYPWDSQYTRSTKRRTRGDL\\nLANFKQGKGDYGGLAGWSDDKGDITVAVKTYPPNDFGLYDMAGNVAEWVA\\nDVYRPIVDDEITDFNYYRGNVYMKHAIGEDGKQIVVTPENVKYDTLMNGK\\nIIARNLPGNLATVPIDSNETYLRYNFTHSDNRSYHDGDKSSTRNYRNQND\\nLMAEGSEYTNSMYNAPRPKRPGSDISGKGYDTSNDRTSLIDDEVRVYKGG\\nSWRDRAYWLDPAQRRFLPQYIATDYIGFRNAMSRVGSKAKKNHKTPKG\\n'), ('>Capnocytophaga_sp_HMT_336_F0502', 'MKRNLLKVPVYMALAGLLLAGCGKKTDKNTSSATGWKINAKEGGFQYNTD\\nFKDQETGPGLVLIEGGTFTMGQVEDDIMHDWNNTPTQQHVQSFYMDETEV\\nTNKMYMEYLDWLKRVFPPDEEQYRNIYIGALPDTLVWRSPLSANEAMVSN\\nYLRHPAYAEYPVVGVNWVQAVQFSSWRTDRVNEAILERDGYLAKDARYQV\\nDATSTFSTDTYLNAPSQTYGGKIAGEMGGKKTNKEGEATYAKQTSGILLP\\nEYRLPSEVEWEYAAKSLGGIREYNSLQGRKKYPWDSQYTRSTKRRTRGDL\\nLANFKQGKGDYGGLAGWSDDKGDITVAVKTYPPNDFGLYDMAGNVAEWVA\\nDVYRPIVDDEITDFNYYRGNVYMKHAIGEDGKQIVVTPENVKYDTLMNGK\\nIIARNLPGNLATVPIDSNETYLRYNFTHSDNRSYHDGDKSSTRNYRNQND\\nLMAEGSEYTNSMYNAPRPKRPGSDISGKGYDTSNDRTSLIDDEVRVYKGG\\nSWRDRAYWLDPAQRRFLPQYIATDYIGFRNAMSRVGSKAKKNHKTPKG\\n'), ('>Capnocytophaga_sp_HMT_380_F0488', 'MALAGLLLAGCGKKTDKNTSSATGWKINAKEGGFQYNTDFKDQETGPGLV\\nLIEGGTFTMGQVEDDIMHDWNNTPTQQHVQSFYMDETEVTNKMYMEYLDW\\nLKRVFPPDEEQYRNIYIGALPDTLVWRSPLSANEAMVSNYLRHPAYAEYP\\nVVGVNWVQAVQFSSWRTDRVNEAILERDGYLAKDARYQVDATSTFSTDTY\\nLNAPSQTYGGKIAGEMGGKKTNKEGEATYAKQTSGILLPEYRLPSEVEWE\\nYAAKSLGGIREYNSLQGRKKYPWDSQYTRSTKRRTRGDLLANFKQGKGDY\\nGGLAGWSDDKGDITVAVKTYPPNDFGLYDMAGNVAEWVADVYRPIVDDEI\\nTDFNYYRGNVYMKHAIGEDGKQIVVTPENVKYDTLMNGKIIARNLPGNLA\\nTVPIDSNETYLRYNFTHSDNRSYHDGDKSSTRNYRNQNDLMAEGSEYTNS\\nMYNAPRPKRPGSDISGKGYDTSNDRTSLIDDEVRVYKGGSWRDRAYWLDP\\nAQRRFLPQYIATDYIGFRNAMSRVGSKAKKNHKTPKG\\n'), ('>Capnocytophaga_sp_HMT_335_F0486', 'MALAGLLLAGCGKKTDKNTSSATGWKINAKEGGFQYNTDFKDQETGPGLV\\nLIEGGTFTMGQVEDDIMHDWNNTPTQQHVQSFYMDETEVTNKMYMEYLDW\\nLKRVFPPDEEQYRNIYIGALPDTLVWRSPLSANEAMVSNYLRHPAYAEYP\\nVVGVNWVQAVQFSSWRTDRVNEAILERDGYLAKDARYQVDATSTFSTDTY\\nLNAPSQTYGGKIAGEMGGKKTNKEGEATYAKQTSGILLPEYRLPSEVEWE\\nYAAKSLGGIREYNSLQGRKKYPWDSQYTRSTKRRTRGDLLANFKQGKGDY\\nGGLAGWSDDKGDITVAVKTYPPNDFGLYDMAGNVAEWVADVYRPIVDDEI\\nTDFNYYRGNVYMKHAIGEDGKQIVVTPENVKYDTLMNGKIIARNLPGNLA\\nTVPIDSNETYLRYNFTHSDNRSYHDGDKSSTRNYRNQNDLMAEGSEYTNS\\nMYNAPRPKRPGSDISGKGYDTSNDRTSLIDDEVRVYKGGSWRDRAYWLDP\\nAQRRFLPQYIATDYIGFRNAMSRVGSKAKKNHKTPKG\\n'), ('>Capnocytophaga_ochracea_DSM_7271_ATCC_27872_JCM_12966', 'MALAGLLLAGCGKKTDKNTSSATGWKINAKEGGFQYNTDFKDQETGPGLV\\nLIEGGTFTMGQVEDDIMHDWNNTPTQQHVQSFYMDETEVTNKMYMEYLDW\\nLKRVFPPDEEQYRNIYIGALPDTLVWRSPLSANEAMVSNYLRHPAYAEYP\\nVVGVNWVQAVQFSSWRTDRVNEAILERDGYLAKDARYQVDATSTFSTDTY\\nLNAPSQTYGGKIAGEMGGKKTNKEGEATYAKQTSGILLPEYRLPSEVEWE\\nYAAKSLGGIREYNSLQGRKKYPWDSQYTRSTKRRTRGDLLANFKQGKGDY\\nGGLAGWSDDKGDITVAVKTYPPNDFGLYDMAGNVAEWVADVYRPIVDDEI\\nTDFNYYRGNVYMKHAIGEDGKQIVVTPENVKYDTLMNGKIIARNLPGNLA\\nTVPIDSNETYLRYNFTHSDNRSYHDGDKSSTRNYRNQNDLMAEGSEYTNS\\nMYNAPRPKRPGSDISGKGYDTSNDRTSLIDDEVRVYKGGSWRDRAYWLDP\\nAQRRFLPQYIATDYIGFRNAMSRVGSKAKKNHKTPKG\\n'), ('>Capnocytophaga_sp_HMT_903_W10654', 'MKRNLLKVPVYMALAGLLLTGCGKKTDKNISSATGWKINAKEGGFQYNTD\\nFKDQETGPGLVLIEGGTFTMGEVEDDIMHDWNNTPTQQHVQSFYMDETEV\\nTNKMYMEYLDWLKRVFPPDEEQYRNIYIGALPDTLVWRSPLSANEAMVSN\\nYLRHPAYAEYPVVGVNWVQAVQFSSWRTDRVNEAILERDGYLAKDARYQV\\nDATSTFSTDTYLNAPSQTYGGKIAGEMGGKKTNKEGEATYAKQTSGILLP\\nEYRLPTEVEWEYAAKSLGGIREYNSLQGRKKYPWNSQYTRSTKRRTRGDL\\nLANFKQGKGDYGGLAGWSDDKGDITVAVKTYPPNDFGLYDMAGNVAEWVA\\nDVYRPIVDDEITDFNYYRGNVYMKHAIGEDGKQIVVTPENVKYDTLMNGK\\nIIARNLPGNLATVPIDSNETYLRYNFTHSDNRSYHDGDKSSTRNYRNQSD\\nLMAEGSEYTNSMYNAPRPKKPGSDINGKDYDTSNDRTSLIDDEVRVFKGG\\nSWRDRAYWLDPAQRRFLPQYIATDYIGFRNAMSRVGSKAKKNHKTPKG\\n'), ('>Capnocytophaga_sp_HMT_324_F0483', 'MALAGLLLAGCGKKTDKNTSSATGWKINAKEGGFQYNTDFKDQETGPGLV\\nLIEGGTFTMGQVEDDIMHDWNNTPTQQHVQSFYMDETEVTNKMYMEYLDW\\nLKRVFPPDEEQYRNIYIGALPDTLVWRSPLSANEAMVSNYLRHPAYAEYP\\nVVGVNWVQAVQFSSWRTDRVNEAILERDGYLAKDARYQVDATSTFSTDTY\\nLNAPSQTYGGKIAGEMGGKKTNKEGEATYAKQTSGILLPEYRLPSEVEWE\\nYAAKSLGGIREYNSLQGRKKYPWDSQYTRSTKRRTRGDLLANFKQGKGDY\\nGGLAGWSDDKGDITVAVKTYPPNDFGLYDMAGNVAEWVADVYRPIVDDEI\\nTDFNYYRGNVYMKHAISEDGKQIVVTPENVKYDTLMNGKIIARNLPGNLA\\nTVPIDSNETYLRYNFTHSDNRSYHDGDKSSTRNYRNQNDLMAEGSEYTNS\\nMYNAPRPKRPGSDISGKGYDTSNDRTSLIDDEVRVYKGGSWRDRAYWLDP\\nAQRRFLPQYIATDYIGFRNAMSRVGSKAKKNHKTPKG\\n'), ('>Capnocytophaga_haemolytica_CCUG_32990', 'MVKKVSLYLKILLPCTRIFMLTSVFTMRRNLLKVPVFVALAGLLLASCGG\\nKKSDKNTSSATGWKINAKEGGFQYNTDFKDQETGPGLVLIEGGTFTMGQV\\nQDNVMHDWDNMPTQQHVQSFYMDETEVTNKMYMEYLDWLKRVFPPDQEQY\\nRNIYIGALPDTLVWRSPLSANEAMVTNYLRHPAYAEYPVVGVNWVQAVQF\\nSTWRTDRVNEAILERDGFLAKDARYNVDAQSTFSTDTYLNAPSETYGGKI\\nQGEMGGKKATDKNGETAYAKQTSGILLPEYRLPTEAEWEYAAKSLNGIRE\\nYNSLQGRKKYPWDSQYTRSTKRRTRGDQLANFKQGKGDYGGLAGWSDDKG\\nDITVAVKTYPPNDFGLYDMAGNVAEWVADVYRPIIDDEISDFNYYRGNVY\\nMKHAIDKDGKQVVVTTENVKYDTLPNGKIIARNLPGNLATIPIDSSETYL\\nRYNFTHSDNRSYHDGDKASTRNYRGQDEMMTADADYVNSMYNAPKPKKQG\\nTSPNGKDYDTSNDRTSLIDDEVRVYKGGSWRDRAYWIDPAQRRYLPQYIA\\nTDYIGFRNAMSRVGSKAKKNHKTPKG\\n'), ('>Capnocytophaga_sp_HMT_326_F0382', 'MKRSLLRIPICIALTGLLLTSCGGKKSDRNVSSATGWRINAKEGGFQYNT\\nDFKDQETGPGLVLIEGGTFTMGQVQDNVMHDWNNTPTQQHVQSFYMDETE\\nVTNKMYMEYLDWLKRVFPPDQEQYRNIYIGALPDTLVWRGPLSANEAMVN\\nNYLRHPAYAEYPVVGVNWVQAVQFSSWRTDRVNEAILERDGYLARDARYQ\\nVDAQSTFSTDTYLNAPTQTYGGKIAGEMGGKNTNKDGEPSYAKQTSGVLL\\nPEYRLPTEVEWEYAAKSLNGIREYNSLQGRKKYPWDSQYTRSTKRSTRGE\\nLMANFKQGKGDYGGLAGWSDDKGDITVAVKTYPPNDFGLYDMAGNVAEWV\\nADVYRPIVDDEKSDFNYYRGNVYMKHAIGEDGKQIVVTPESVKYDTLSNR\\nKIIARNLPGNLATVPIDSNETYLRYNFTHADNRSYNDGEKSSTRNFRNQG\\nGLMAPGAEYTNSMYNAPRPKKPGSELNGKDYDTSNDRTSLIDDEVRVFKG\\nGSWRDRAYWIDPAQRRFLPQYIATDYIGFRNAMSRVGSKSKTNHRTPKG\\n'), ('>Capnocytophaga_sputigena_ATCC_33612', 'MKRSLLRIPICIALTGLLLTSCGGKKSDRNVSSATGWRINAKEGGFQYNT\\nDFKDQETGPGLVLIEGGTFTMGQVQDNVMHDWNNTPTQQHVQSFYMDETE\\nVTNKMYMEYLDWLKRVFPPDQEQYRNIYIGALPDTLVWRGPLSANEAMVN\\nNYLRHPAYAEYPVVGVNWVQAVQFSSWRTDRVNEAILERDGYLARDARYQ\\nVDAQSTFSTDTYLNAPTQTYGGKIAGEMGGKNTNKEGEPSYAKQTSGVLL\\nPEYRLPTEVEWEYAAKSLNGIREYNSLQGRKKYPWDSQYTRSTKRSTRGE\\nLLANFKQGKGDYGGLAGWSDDKGDITVAVKTYPPNDFGLYDMAGNVAEWV\\nADVYRPIIDDEKSDFNYYRGNVYMKHAIGEDGKQIVVTPESVKYDSLPNR\\nRVIARNLPGSLATVPIDSNETYLRYNFTHADNRSYNDGEKSSTRNFRNQN\\nELLAPGAEYTNSMYNAPRFKKPGTELNGKDYDTSNDRTSLIDDEVRVFKG\\nGSWRDRAYWIDPAQRRYLPQYIATDYIGFRNAMSRVGSKSKKDHRTPKG\\n'), ('>Capnocytophaga_sp_HMT_332_F0381', 'MKRSLLKVPFYLAVTSLLIAGCAGGNKTDRNTSSATGWKINAKEGGFQYN\\nTDFKDQETGPGLVLIEGGTFTMGQVQDNVMHDWNNMPTQQHIQSFYMDET\\nEVTNKMYMEYLDWLKRVFPPDEEQYKNIYRGALPDTLVWRSPLSANEAMV\\nANYLRHPAFAEYPVVGVNWVQAVQFSAWRTDRVNEAILSRDGYLAKDARY\\nQVDATSTFSTDTYLNTPSQTYGGKIQGEMGGKKSGKEGQTAYVKQTSGIL\\nLPDYRLPTEAEWEYAAKSLNGIRQYNTLQGRKKYPWNSQYTRSTERRTRG\\nEQMANFKQGKGDYGGLAGWSDDKGDITVAVKTYPPNDFGLYDMAGNVAEW\\nVADVYRPILDDEVSDFNYYRGNVYMKHAIGEDGKQVIVTPETIKYDTLPN\\nGKVVARNLPGNIATVPVDSSETYLRYNFTHSDNRSYNDGDKASTRNFRNQ\\nNDLMAGGAEYVNSMYNAPKPKKPGSDIGGKDYDTSNDRTSLIDDEVRVYK\\nGGSWRDRAFWIDPAQRRYLPQYIATDYIGFRNAMSRVGSKSKTGHRTPKG\\n'), ('>Capnocytophaga_sp_HMT_878_F0545', 'MLYSKKVVSCARIFMLTSVFTMKRSLLKVPFYLALTGLLLTSCGGGSKSD\\nKNISSATGWKINSKEGGFQYNTDFKDQETGPGLVLIEGGTFTMGQVQDNV\\nMHDWNNMPTQQHVQSFYMDETEVTNKMYMEYLDWLKRVFPPDDEQYKNIY\\nKGALPDTLVWRSELSANEAMVANYLRHPAFAEYPVVGVNWVQAVQFSAWR\\nTDRVNEAILARDGYLAKDARYQVDATSTFSTDTYLNAPSQTYGGKVQGEM\\nGGKKSSKEGETQYAKQTSGIILPDYRLPTEAEWEYAAKSLGGIRKYNSLQ\\nGRKKYPWDSQYTRYTERKRRGEQMANFKQNKGDYGGLAGWSEDRGDITVA\\nVKTYAPNDFGLYDMAGNVAEWVADVYRPIIDDEKSDFNYFRGNVYMKHAI\\nGEDGKQVVVTPETIKYDTLPNTRIIARNLPGNLATVPVDSSDTYLRYNFT\\nRSDNRSYRDGDKASTRNFRNQNDMMTPEAEYANSMYNAPKPKKFGTEING\\nKDYDTSNDRTSLIDDEVRVFKGGSWRDRAFWIDPAQRRYLPQYIATDYIG\\nFRNAMSRVGSKSKANHRTPKG\\n'), ('>Segetibacter_aerophilus_NBRC_106135', 'MHKVLRLKNFTILLGAVALMASCNKNKGPKSDMTGWKYNDKNMGGYNVAK\\nAKNVKTGPGLVFVQGGTFTMGATTEDIMGDWNNIPRRVTVNSFFIDKTEV\\nANVHYREYIHWIESVFSDPQYDAVVQGAKPDTLVWRSELAFNEPYVEYYF\\nRHPSYNFYPVVGVSWKQAHDFSIWRTDRVNEGELINAGYQNKNTIKTEMA\\nGGGQENFNTKAYLMGEYQGVPGKPKKNALKDAQGRPRTHVNFDDGILLPG\\nYRLPTEAEWEYAALGYINQNPQVRKSEKKRGEENNTNRQIYSWQNDGYDN\\nLRATRRGAWQGSFLANFKRGSGDNMGVAGGLNDRSAIPAEVTAFFPNGFG\\nVYNMSGNVSEWVADVYRPLTNQEADDFNPYRGNRFQKVDLSGGEGNLRDS\\nLGRIKMVDENDSTLRMRRNYQRSYAINYLDGDSTSNVSYGYGLTTLVSDQ\\nSRVIKGGSWNDRAYWLSPGTRRFLEEDQSSSTVGFRCAMIAPGSPEGNGR\\nKTGNFFPKRRQKR\\n'), ('>Bacteroidales_G2_bacterium_HMT_274_F0058', 'MNISKNILGLILLSFILVGCNKKSNLGAGRSERTGWEYNKPNKGFFNVES\\nTYTGLVPPGCIYVETGSYVKGQNEDPISTQQDARKRRIEVAGFFMDEFEV\\nTNINWREYVAWLQGVYAHNPKKYLAALPDETVWRSELAYNDPQVRNYYSH\\nVAYGYYPVVGISWEQAMDYCAWRTDRANERILIDKKLIDFVDLETVSSNI\\nQNADSSEYGKFIFFTGKKNEYMRENGRKENVDLDGVIYDAEFRLPTESEW\\nEYAAYGVVSTTDEEHNFDNGSTYPWAGYQLRYMKKGKNKGKFMANFVRGK\\nGDQVAFTRNNSMTVPVDFYLPNGFGLYNMAGNVNEWVLDVYRATSDDLFD\\nELNSYRGNHWISDSAYAETILDRMPPMEADVRDSMRNYLVNEKKFYQTGR\\nDVRDFRDGDAYSSIGDSVLVYKDASYIEQATMISNSARIYKGGSWKDRGI\\nWLNPSKRRWLDQKDKASDIGFRCAMSAVGGKKNRQ\\n')]\n"
     ]
    }
   ],
   "source": [
    "final1=list(zip(name2,AA3)) #combining the name list and the AA list \n",
    "print(final1)"
   ]
  },
  {
   "cell_type": "code",
   "execution_count": 18,
   "id": "841344a3",
   "metadata": {},
   "outputs": [],
   "source": [
    "f = open('finalfile.txt', 'w')\n",
    "for t in final1:\n",
    "    line = '\\n'.join(str(x) for x in t)\n",
    "    f.write(line)\n",
    "f.close() # saving the final list as a text document.\n"
   ]
  },
  {
   "cell_type": "code",
   "execution_count": null,
   "id": "03a272c5",
   "metadata": {},
   "outputs": [],
   "source": []
  },
  {
   "cell_type": "code",
   "execution_count": null,
   "id": "282b07af",
   "metadata": {},
   "outputs": [],
   "source": []
  }
 ],
 "metadata": {
  "kernelspec": {
   "display_name": "Python 3",
   "language": "python",
   "name": "python3"
  },
  "language_info": {
   "codemirror_mode": {
    "name": "ipython",
    "version": 3
   },
   "file_extension": ".py",
   "mimetype": "text/x-python",
   "name": "python",
   "nbconvert_exporter": "python",
   "pygments_lexer": "ipython3",
   "version": "3.8.5"
  }
 },
 "nbformat": 4,
 "nbformat_minor": 5
}
