{
 "cells": [
  {
   "cell_type": "markdown",
   "id": "50cdfb9e",
   "metadata": {},
   "source": [
    "## This code is specific to homd.org\n",
    "### requires homd.org to be version 192.168.0.52\n",
    "### requires chromedriver to be 105.0.5195.52\n",
    "### requires a list of sequence IDs that you wish to extract from eHOMD, typically a BLAST result"
   ]
  },
  {
   "cell_type": "markdown",
   "id": "f5a5bc45",
   "metadata": {},
   "source": [
    "# Module 1\n",
    "## extracting sequence identifiers from a BLAST file "
   ]
  },
  {
   "cell_type": "code",
   "execution_count": 1,
   "id": "083be59c",
   "metadata": {},
   "outputs": [],
   "source": [
    "import requests #list of every library used in the code\n",
    "import urllib.request\n",
    "import time\n",
    "import selenium\n",
    "from selenium import webdriver\n",
    "from selenium.webdriver.chrome.webdriver import WebDriver\n",
    "from selenium.webdriver.common.keys import Keys\n",
    "from selenium.webdriver.common.by import By\n",
    "from selenium.webdriver.support.ui import WebDriverWait\n",
    "from selenium.webdriver.support import expected_conditions as EC\n",
    "from selenium.webdriver.support.ui import Select\n",
    "import time\n",
    "import pandas as pd\n",
    "from pandas import DataFrame\n",
    "import numpy as np"
   ]
  },
  {
   "cell_type": "code",
   "execution_count": 2,
   "id": "09aa8536",
   "metadata": {},
   "outputs": [],
   "source": [
    "file=open('Example.txt').read() #Text file taken for HOMD gene blast search. Includes the sequence IDs that are exrtacted from HOMD.  "
   ]
  },
  {
   "cell_type": "code",
   "execution_count": 3,
   "id": "421edfff",
   "metadata": {
    "scrolled": false
   },
   "outputs": [
    {
     "data": {
      "text/plain": [
       "['Top',\n",
       " 'of',\n",
       " 'Form',\n",
       " 'Bottom',\n",
       " 'of',\n",
       " 'Form',\n",
       " 'Distribution',\n",
       " 'of',\n",
       " '35',\n",
       " 'Blast',\n",
       " 'Hits',\n",
       " 'on',\n",
       " 'the',\n",
       " 'Query',\n",
       " 'Sequence',\n",
       " 'Score',\n",
       " 'E',\n",
       " 'Sequences',\n",
       " 'producing',\n",
       " 'significant',\n",
       " 'alignments:',\n",
       " '(bits)',\n",
       " 'Value',\n",
       " 'SEQF1602_02077',\n",
       " 'hypothetical',\n",
       " 'protein',\n",
       " '[HMT-337',\n",
       " 'Capnocytophaga',\n",
       " 'ging...',\n",
       " '377',\n",
       " 'e-103',\n",
       " 'SEQF1687_01827',\n",
       " 'hypothetical',\n",
       " 'protein',\n",
       " '[HMT-338',\n",
       " 'Capnocytophaga',\n",
       " 'sp.',\n",
       " '...',\n",
       " '307',\n",
       " '1e-82',\n",
       " 'SEQF1653_02381',\n",
       " 'hypothetical',\n",
       " 'protein',\n",
       " '[HMT-325',\n",
       " 'Capnocytophaga',\n",
       " 'gran...',\n",
       " '296',\n",
       " '2e-79',\n",
       " 'SEQF2319_01586',\n",
       " 'hypothetical',\n",
       " 'protein',\n",
       " '[HMT-863',\n",
       " 'Capnocytophaga',\n",
       " 'sp.',\n",
       " '...',\n",
       " '291',\n",
       " '9e-78',\n",
       " 'SEQF3176_01306',\n",
       " 'hypothetical',\n",
       " 'protein',\n",
       " '[HMT-903',\n",
       " 'Capnocytophaga',\n",
       " 'sp.',\n",
       " '...',\n",
       " '228',\n",
       " '8e-59']"
      ]
     },
     "execution_count": 3,
     "metadata": {},
     "output_type": "execute_result"
    }
   ],
   "source": [
    "file1=file.split() #splitting each element in the document at each space\n",
    "file1"
   ]
  },
  {
   "cell_type": "code",
   "execution_count": 4,
   "id": "7a219c40",
   "metadata": {},
   "outputs": [
    {
     "data": {
      "text/plain": [
       "['SEQF1602_02077',\n",
       " 'SEQF1687_01827',\n",
       " 'SEQF1653_02381',\n",
       " 'SEQF2319_01586',\n",
       " 'SEQF3176_01306']"
      ]
     },
     "execution_count": 4,
     "metadata": {},
     "output_type": "execute_result"
    }
   ],
   "source": [
    "Final_file= [i for i in file1 if \"SEQF\" in i] #Searching for elements that begin with 'SEQF' to isolate Sequence IDs.\n",
    "Final_file"
   ]
  },
  {
   "cell_type": "code",
   "execution_count": 5,
   "id": "f108f2f6",
   "metadata": {},
   "outputs": [
    {
     "data": {
      "text/plain": [
       "'SEQF1602'"
      ]
     },
     "execution_count": 5,
     "metadata": {},
     "output_type": "execute_result"
    }
   ],
   "source": [
    "a=Final_file[0] # getting the species number by selecting the first 8 characters \n",
    "a[0:8]"
   ]
  },
  {
   "cell_type": "code",
   "execution_count": 6,
   "id": "b0f625dc",
   "metadata": {},
   "outputs": [],
   "source": [
    "species=[] # Creating a list for the species numbers \n",
    "for species1 in range(len(Final_file)): \n",
    "    \n",
    "    b=Final_file[species1]\n",
    "    species.append(b[0:8])\n",
    "#species"
   ]
  },
  {
   "cell_type": "markdown",
   "id": "75f39f31",
   "metadata": {},
   "source": [
    "# Module 2\n",
    "## Creating a list of unique websites for each species"
   ]
  },
  {
   "cell_type": "code",
   "execution_count": 7,
   "id": "8335a582",
   "metadata": {},
   "outputs": [],
   "source": [
    "options = webdriver.ChromeOptions()\n",
    "options.headless = True\n",
    "driver = webdriver.Chrome(r\"C:\\Users\\sofia\\.wdm\\drivers\\chromedriver\\win32\\105.0.5195.52\\chromedriver.exe\", options=options)#locating chromedriver on local computer location may change based on computer. \n",
    "#This uses chromedriver's 99.0.4844.51 version. Update version to newest if needed. \n",
    "#options=options allows chromedriver to work in headless mode"
   ]
  },
  {
   "cell_type": "code",
   "execution_count": 8,
   "id": "40d2d61c",
   "metadata": {},
   "outputs": [
    {
     "name": "stdout",
     "output_type": "stream",
     "text": [
      "https://v2.homd.org/modules.php?op=modload&name=GenomeExpGM&file=index&gprog=danno&org=PROKKA_SEQF1602\n",
      "https://v2.homd.org/modules.php?op=modload&name=GenomeExpGM&file=index&gprog=danno&org=PROKKA_SEQF1687\n",
      "https://v2.homd.org/modules.php?op=modload&name=GenomeExpGM&file=index&gprog=danno&org=PROKKA_SEQF1653\n",
      "https://v2.homd.org/modules.php?op=modload&name=GenomeExpGM&file=index&gprog=danno&org=PROKKA_SEQF2319\n",
      "https://v2.homd.org/modules.php?op=modload&name=GenomeExpGM&file=index&gprog=danno&org=PROKKA_SEQF3176\n"
     ]
    }
   ],
   "source": [
    "Link2 = np.array([\"https://v2.homd.org/modules.php?op=modload&name=GenomeExpGM&file=index&gprog=danno&org=PROKKA_\"]) #Main website that requires a species number \n",
    "Websites1 = [] #empty list for each custom website\n",
    "for a in Link2: #adding the website to each species name to create custom websites. \n",
    "    for b in species:\n",
    "        print (a+b)\n",
    "        Websites1.append((a+b))"
   ]
  },
  {
   "cell_type": "markdown",
   "id": "b599ab46",
   "metadata": {},
   "source": [
    "# Module 3 \n",
    "## Looking through each website in module 2 and collecting the species name\n",
    "## Removing special characters and creating a FASTA format file"
   ]
  },
  {
   "cell_type": "code",
   "execution_count": 9,
   "id": "f6f5136c",
   "metadata": {},
   "outputs": [
    {
     "data": {
      "text/plain": [
       "['>Capnocytophaga gingivalis ATCC 33624',\n",
       " '>Capnocytophaga sp. HMT 338 F0234',\n",
       " '>Capnocytophaga granulosa ATCC 51502',\n",
       " '>Capnocytophaga sp. HMT 863 F0517',\n",
       " '>Capnocytophaga sp. HMT 903 W10654']"
      ]
     },
     "execution_count": 9,
     "metadata": {},
     "output_type": "execute_result"
    }
   ],
   "source": [
    "name = []\n",
    "for a in range(len(Websites1)):  # Using Chrome to access web\n",
    "    driver = webdriver.Chrome(r\"C:\\Users\\sofia\\.wdm\\drivers\\chromedriver\\win32\\105.0.5195.52\\chromedriver.exe\", options=options) #operating webpages in headless mode\n",
    "    driver.get(Websites1[a]) # Open the website\n",
    "    time.sleep(2)\n",
    "    genome = driver.find_element_by_xpath(\"//html/body/div[2]/table[1]/tbody/tr[4]/td/table/tbody/tr/td/table/tbody/tr[1]/td/table/tbody/tr[2]/td/table/tbody/tr[1]/td[2]/font/b\").text #finding the genome selected name\n",
    "    name.append(\">\"+genome)\n",
    "    driver.close()\n",
    "name"
   ]
  },
  {
   "cell_type": "code",
   "execution_count": 10,
   "id": "addf70c6",
   "metadata": {},
   "outputs": [
    {
     "data": {
      "text/plain": [
       "['>Capnocytophaga gingivalis ATCC 33624',\n",
       " '>Capnocytophaga sp HMT 338 F0234',\n",
       " '>Capnocytophaga granulosa ATCC 51502',\n",
       " '>Capnocytophaga sp HMT 863 F0517',\n",
       " '>Capnocytophaga sp HMT 903 W10654']"
      ]
     },
     "execution_count": 10,
     "metadata": {},
     "output_type": "execute_result"
    }
   ],
   "source": [
    "# initializing special characters\n",
    "special_char = '@_!#$%^&*()<?/\\|}{~:;.[]-,='\n",
    " \n",
    "# using join() + generator to remove special characters\n",
    "name1 = [''.join(x for x in string if not x in special_char) for string in name]\n",
    " \n",
    "# print list without special characters to ease FAFSTA format conversion. \n",
    "name1"
   ]
  },
  {
   "cell_type": "code",
   "execution_count": 11,
   "id": "2673aea7",
   "metadata": {},
   "outputs": [
    {
     "data": {
      "text/plain": [
       "['>Capnocytophaga_gingivalis_ATCC_33624',\n",
       " '>Capnocytophaga_sp_HMT_338_F0234',\n",
       " '>Capnocytophaga_granulosa_ATCC_51502',\n",
       " '>Capnocytophaga_sp_HMT_863_F0517',\n",
       " '>Capnocytophaga_sp_HMT_903_W10654']"
      ]
     },
     "execution_count": 11,
     "metadata": {},
     "output_type": "execute_result"
    }
   ],
   "source": [
    "name2=[n.replace(\" \",\"_\")for n in name1]\n",
    "name2 #done to create FAFSTA format"
   ]
  },
  {
   "cell_type": "code",
   "execution_count": 12,
   "id": "63d3da0e",
   "metadata": {},
   "outputs": [],
   "source": [
    "textfile = open(\"name.txt\", \"w\")\n",
    "for element in name1:\n",
    "    textfile.write(element + \"\\n\")\n",
    "textfile.close() #saving names as a textfile"
   ]
  },
  {
   "cell_type": "markdown",
   "id": "5d590047",
   "metadata": {},
   "source": [
    "# Module 4 \n",
    "## Looking through each website in module 2 and collecting amino acid seqences\n",
    "## saving sequences as a .txt file"
   ]
  },
  {
   "cell_type": "code",
   "execution_count": 13,
   "id": "91e93eaf",
   "metadata": {},
   "outputs": [
    {
     "name": "stderr",
     "output_type": "stream",
     "text": [
      "<ipython-input-13-34600cda460b>:16: DeprecationWarning: use driver.switch_to.window instead\n",
      "  driver.switch_to_window(allGUID[1]) #switching to window 2\n"
     ]
    },
    {
     "data": {
      "text/plain": [
       "['>SEQF1602|SEQF1602_02077 hypothetical protein\\nMIYRILISSVLLLVISCSGDIQPKPKAFLRLEYPEPTYDTIKESCPFSFE\\nKNHLSFLNLQKGCSMNLDYPQMKATIYITYKPVKDNLTKLLKDAQNFTYE\\nHTIKATNIVEQPYLNEKDKVYGMFYEVDGNAASQSQFYITDSVNHFITGS\\nIYFKVRPNYDSIYPAALYLKRDIRRIMETTHWK',\n",
       " '>SEQF1687|SEQF1687_01827 hypothetical protein\\nMIYRTIIICIGLFLISCNSDVQPKPKAFLRLEYGVPQYDTLSLDCPFSFQ\\nKNTNSKLSKQDNCSLNLDYPSMRATIYITYKPVKDNLTNLLRDAQNFTYE\\nHTIKATNIIEQPYLNEKDKVYGMFYEVDGNAASQSQFYITDSTKHFITGS\\nIYFKVRPNFDSIYPAAIYLKNDIRKIMETTHWK',\n",
       " '>SEQF1653|SEQF1653_02381 hypothetical protein\\nMRSKLLMSCCIGLLLVACGGDLQPKPKAFLRLDYPEAQYDTLKGETPFSF\\nEKNTYAKVSTKQGYSLNLDYPAMRATIYITYKPVKDNLVKLLKDAQNLTY\\nEHTIKATNIVEQPYLNTKDKVYGMFYEVDGNAASQSQFYITDSTRHFLTG\\nSIYFRVRPNYDSIYPAAMYLKKDIRRIMETTHWK',\n",
       " '>SEQF2319|SEQF2319_01586 hypothetical protein\\nMIRFLIACCLMLLLTACGGEIQPKPKAFLRLDYPEATYDTLRAAVPFSFE\\nKNTHAKESPQAGYNLNLDYPTMKATIYITYKPVADNLVKLLKDAQNLTYE\\nHTIKATNIIEQPYIDPQHKVYGMFYEVDGNAASQSQFYITDSTNHFLTGS\\nIYFRVRPNYDSIYPAALYLKRDIRRIMETTHWK',\n",
       " '>SEQF3176|SEQF3176_01306 hypothetical protein\\nMKKLIYSLLSSVVLLLVACGTDILPKPKGVLRLEYPQASYQKVTELPNCP\\nFTFEVNTLSELKYKPHSCDVNIEYPAMKATVYLTYKNVNGNIRQLLSDAQ\\nKFTYDHTIKADNIASTVFMNDTTKVYGMFYQVYGNAASQAQFYATDSVRH\\nFISGSVYFRVVPNYDSVQPASNYLEKDVRRIMESLHWK']"
      ]
     },
     "execution_count": 13,
     "metadata": {},
     "output_type": "execute_result"
    }
   ],
   "source": [
    "AA=[] #creating an empty list for AA sequences \n",
    "for a in range(len(Websites1)):  # Using Chrome to access web\n",
    "    driver = webdriver.Chrome(r\"C:\\Users\\sofia\\.wdm\\drivers\\chromedriver\\win32\\105.0.5195.52\\chromedriver.exe\", options=options)\n",
    "    # Open the website\n",
    "    driver.get(Websites1[a]) # searching each individual website\n",
    "    search_box = driver.find_element_by_id('keyword') #finding the searchbox\n",
    "    search_box.clear() #clearing the box\n",
    "    search_box.send_keys(Final_file[a]) # Send SEQF information\n",
    "    search_box.send_keys(Keys.RETURN)  # Click Enter\n",
    "    time.sleep(3) #allowing the website to load\n",
    "    driver.find_elements_by_class_name('showstate3') #differentiating between NA and AA hyperlinks\n",
    "    parentGUID = driver.current_window_handle#determining the ID of the current tab/window\n",
    "    time.sleep(3) #letting the website load\n",
    "    driver.find_elements_by_class_name(\"showstate3\")[1].click() #Selecting the hyperlink for AA\n",
    "    allGUID = driver.window_handles\n",
    "    driver.switch_to_window(allGUID[1]) #switching to window 2\n",
    "    text = driver.find_element_by_tag_name(\"pre\").text #finding body of text   \n",
    "    \n",
    "    AA.append(text) #adding text to list \n",
    "    driver.close()\n",
    "AA"
   ]
  },
  {
   "cell_type": "code",
   "execution_count": 14,
   "id": "8e87a37c",
   "metadata": {},
   "outputs": [],
   "source": [
    "textfile = open(\"AA.txt\", \"w\")\n",
    "for element in AA:\n",
    "    textfile.write(element + \"\\n\")\n",
    "textfile.close() #saving AA list as a text file"
   ]
  },
  {
   "cell_type": "markdown",
   "id": "5e3eb7c7",
   "metadata": {},
   "source": [
    "# Module 5 \n",
    "## combining the species names and amino acid sequences into a single document"
   ]
  },
  {
   "cell_type": "code",
   "execution_count": 15,
   "id": "9bfe97c4",
   "metadata": {},
   "outputs": [],
   "source": [
    "with open('AA.txt') as fo: #opening the file of AA sequences\n",
    "    for line in fo:\n",
    "        if \"SEQF\" in line: #locating each line that contains SEQF\n",
    "            line=\"/t\" #replacing the whole line with \\t\n",
    "        newfile=open(\"newAA.txt\",'a')\n",
    "        newfile.write(line) #creating new file with no sequence identifiers\n",
    "        newfile.close()"
   ]
  },
  {
   "cell_type": "code",
   "execution_count": 16,
   "id": "abf1bbae",
   "metadata": {},
   "outputs": [],
   "source": [
    "AA1=open('newAA.txt').read()\n",
    "AA2=AA1.split('/t') #splitting the document at every /t\n",
    "AA3= AA2[1:] # skipping over the first /t"
   ]
  },
  {
   "cell_type": "code",
   "execution_count": 17,
   "id": "ea8c91cb",
   "metadata": {},
   "outputs": [
    {
     "name": "stdout",
     "output_type": "stream",
     "text": [
      "[('>Capnocytophaga_gingivalis_ATCC_33624', 'MIYRILISSVLLLVISCSGDIQPKPKAFLRLEYPEPTYDTIKESCPFSFE\\nKNHLSFLNLQKGCSMNLDYPQMKATIYITYKPVKDNLTKLLKDAQNFTYE\\nHTIKATNIVEQPYLNEKDKVYGMFYEVDGNAASQSQFYITDSVNHFITGS\\nIYFKVRPNYDSIYPAALYLKRDIRRIMETTHWK\\n'), ('>Capnocytophaga_sp_HMT_338_F0234', 'MIYRTIIICIGLFLISCNSDVQPKPKAFLRLEYGVPQYDTLSLDCPFSFQ\\nKNTNSKLSKQDNCSLNLDYPSMRATIYITYKPVKDNLTNLLRDAQNFTYE\\nHTIKATNIIEQPYLNEKDKVYGMFYEVDGNAASQSQFYITDSTKHFITGS\\nIYFKVRPNFDSIYPAAIYLKNDIRKIMETTHWK\\n'), ('>Capnocytophaga_granulosa_ATCC_51502', 'MRSKLLMSCCIGLLLVACGGDLQPKPKAFLRLDYPEAQYDTLKGETPFSF\\nEKNTYAKVSTKQGYSLNLDYPAMRATIYITYKPVKDNLVKLLKDAQNLTY\\nEHTIKATNIVEQPYLNTKDKVYGMFYEVDGNAASQSQFYITDSTRHFLTG\\nSIYFRVRPNYDSIYPAAMYLKKDIRRIMETTHWK\\n'), ('>Capnocytophaga_sp_HMT_863_F0517', 'MIRFLIACCLMLLLTACGGEIQPKPKAFLRLDYPEATYDTLRAAVPFSFE\\nKNTHAKESPQAGYNLNLDYPTMKATIYITYKPVADNLVKLLKDAQNLTYE\\nHTIKATNIIEQPYIDPQHKVYGMFYEVDGNAASQSQFYITDSTNHFLTGS\\nIYFRVRPNYDSIYPAALYLKRDIRRIMETTHWK\\n'), ('>Capnocytophaga_sp_HMT_903_W10654', 'MKKLIYSLLSSVVLLLVACGTDILPKPKGVLRLEYPQASYQKVTELPNCP\\nFTFEVNTLSELKYKPHSCDVNIEYPAMKATVYLTYKNVNGNIRQLLSDAQ\\nKFTYDHTIKADNIASTVFMNDTTKVYGMFYQVYGNAASQAQFYATDSVRH\\nFISGSVYFRVVPNYDSVQPASNYLEKDVRRIMESLHWK\\n')]\n"
     ]
    }
   ],
   "source": [
    "final1=list(zip(name2,AA3)) #combining the name list and the AA list \n",
    "print(final1)"
   ]
  },
  {
   "cell_type": "code",
   "execution_count": 18,
   "id": "841344a3",
   "metadata": {},
   "outputs": [],
   "source": [
    "f = open('finalfile.txt', 'w')\n",
    "for t in final1:\n",
    "    line = '\\t'.join(str(x) for x in t)\n",
    "    f.write(line)\n",
    "f.close() # saving the final list as a text document.\n"
   ]
  },
  {
   "cell_type": "code",
   "execution_count": null,
   "id": "03a272c5",
   "metadata": {},
   "outputs": [],
   "source": []
  },
  {
   "cell_type": "code",
   "execution_count": null,
   "id": "282b07af",
   "metadata": {},
   "outputs": [],
   "source": []
  }
 ],
 "metadata": {
  "kernelspec": {
   "display_name": "Python 3",
   "language": "python",
   "name": "python3"
  },
  "language_info": {
   "codemirror_mode": {
    "name": "ipython",
    "version": 3
   },
   "file_extension": ".py",
   "mimetype": "text/x-python",
   "name": "python",
   "nbconvert_exporter": "python",
   "pygments_lexer": "ipython3",
   "version": "3.8.5"
  }
 },
 "nbformat": 4,
 "nbformat_minor": 5
}
